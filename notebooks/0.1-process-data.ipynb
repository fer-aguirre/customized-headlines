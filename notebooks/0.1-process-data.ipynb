{
 "cells": [
  {
   "attachments": {},
   "cell_type": "markdown",
   "metadata": {},
   "source": [
    "### Imports"
   ]
  },
  {
   "cell_type": "code",
   "execution_count": 7,
   "metadata": {},
   "outputs": [],
   "source": [
    "import customized_headlines.data.load as load\n",
    "import pandas as pd"
   ]
  },
  {
   "attachments": {},
   "cell_type": "markdown",
   "metadata": {},
   "source": [
    "### Load data"
   ]
  },
  {
   "cell_type": "code",
   "execution_count": 8,
   "metadata": {},
   "outputs": [],
   "source": [
    "data_raw = load.data_raw\n",
    "data_processed = load. data_processed"
   ]
  },
  {
   "attachments": {},
   "cell_type": "markdown",
   "metadata": {},
   "source": [
    "### Read data"
   ]
  },
  {
   "cell_type": "code",
   "execution_count": 9,
   "metadata": {},
   "outputs": [
    {
     "name": "stdout",
     "output_type": "stream",
     "text": [
      "(227, 16)\n"
     ]
    },
    {
     "data": {
      "text/html": [
       "<div>\n",
       "<style scoped>\n",
       "    .dataframe tbody tr th:only-of-type {\n",
       "        vertical-align: middle;\n",
       "    }\n",
       "\n",
       "    .dataframe tbody tr th {\n",
       "        vertical-align: top;\n",
       "    }\n",
       "\n",
       "    .dataframe thead th {\n",
       "        text-align: right;\n",
       "    }\n",
       "</style>\n",
       "<table border=\"1\" class=\"dataframe\">\n",
       "  <thead>\n",
       "    <tr style=\"text-align: right;\">\n",
       "      <th></th>\n",
       "      <th>ap_syndicated</th>\n",
       "      <th>collect_date</th>\n",
       "      <th>feeds</th>\n",
       "      <th>guid</th>\n",
       "      <th>language</th>\n",
       "      <th>media_id</th>\n",
       "      <th>media_name</th>\n",
       "      <th>media_url</th>\n",
       "      <th>metadata</th>\n",
       "      <th>processed_stories_id</th>\n",
       "      <th>publish_date</th>\n",
       "      <th>stories_id</th>\n",
       "      <th>story_tags</th>\n",
       "      <th>title</th>\n",
       "      <th>url</th>\n",
       "      <th>word_count</th>\n",
       "    </tr>\n",
       "  </thead>\n",
       "  <tbody>\n",
       "    <tr>\n",
       "      <th>0</th>\n",
       "      <td>False</td>\n",
       "      <td>2022-10-01 20:20:35.457433</td>\n",
       "      <td>NaN</td>\n",
       "      <td>article 1483585 at https://www.milenio.com</td>\n",
       "      <td>es</td>\n",
       "      <td>22579</td>\n",
       "      <td>milenio.com</td>\n",
       "      <td>http://www.milenio.com</td>\n",
       "      <td>{'date_guess_method': None, 'extractor_version...</td>\n",
       "      <td>2822106553</td>\n",
       "      <td>2022-10-01 19:58:00</td>\n",
       "      <td>2436520582</td>\n",
       "      <td>[]</td>\n",
       "      <td>¡Vivan los novios! Así fue la primera boda en ...</td>\n",
       "      <td>https://www.milenio.com/virales/celebran-prime...</td>\n",
       "      <td>NaN</td>\n",
       "    </tr>\n",
       "    <tr>\n",
       "      <th>1</th>\n",
       "      <td>False</td>\n",
       "      <td>2022-10-03 01:31:40.054712</td>\n",
       "      <td>NaN</td>\n",
       "      <td>article 1483942 at https://www.milenio.com</td>\n",
       "      <td>es</td>\n",
       "      <td>22579</td>\n",
       "      <td>milenio.com</td>\n",
       "      <td>http://www.milenio.com</td>\n",
       "      <td>{'date_guess_method': None, 'extractor_version...</td>\n",
       "      <td>2822759571</td>\n",
       "      <td>2022-10-03 01:26:11</td>\n",
       "      <td>2437298750</td>\n",
       "      <td>[]</td>\n",
       "      <td>Lunes de Netflix</td>\n",
       "      <td>https://www.milenio.com/opinion/alvaro-cueva/e...</td>\n",
       "      <td>NaN</td>\n",
       "    </tr>\n",
       "    <tr>\n",
       "      <th>2</th>\n",
       "      <td>False</td>\n",
       "      <td>2022-10-03 09:37:52.644812</td>\n",
       "      <td>NaN</td>\n",
       "      <td>article 1484058 at https://www.milenio.com</td>\n",
       "      <td>es</td>\n",
       "      <td>22579</td>\n",
       "      <td>milenio.com</td>\n",
       "      <td>http://www.milenio.com</td>\n",
       "      <td>{'date_guess_method': None, 'extractor_version...</td>\n",
       "      <td>2823059453</td>\n",
       "      <td>2022-10-03 09:23:00</td>\n",
       "      <td>2437627807</td>\n",
       "      <td>[]</td>\n",
       "      <td>Tiktoker Chingu Amiga pone puesto de elotes; g...</td>\n",
       "      <td>https://www.milenio.com/virales/chingu-amiga-t...</td>\n",
       "      <td>NaN</td>\n",
       "    </tr>\n",
       "  </tbody>\n",
       "</table>\n",
       "</div>"
      ],
      "text/plain": [
       "   ap_syndicated                collect_date  feeds  \\\n",
       "0          False  2022-10-01 20:20:35.457433    NaN   \n",
       "1          False  2022-10-03 01:31:40.054712    NaN   \n",
       "2          False  2022-10-03 09:37:52.644812    NaN   \n",
       "\n",
       "                                         guid language  media_id   media_name  \\\n",
       "0  article 1483585 at https://www.milenio.com       es     22579  milenio.com   \n",
       "1  article 1483942 at https://www.milenio.com       es     22579  milenio.com   \n",
       "2  article 1484058 at https://www.milenio.com       es     22579  milenio.com   \n",
       "\n",
       "                media_url                                           metadata  \\\n",
       "0  http://www.milenio.com  {'date_guess_method': None, 'extractor_version...   \n",
       "1  http://www.milenio.com  {'date_guess_method': None, 'extractor_version...   \n",
       "2  http://www.milenio.com  {'date_guess_method': None, 'extractor_version...   \n",
       "\n",
       "   processed_stories_id         publish_date  stories_id story_tags  \\\n",
       "0            2822106553  2022-10-01 19:58:00  2436520582         []   \n",
       "1            2822759571  2022-10-03 01:26:11  2437298750         []   \n",
       "2            2823059453  2022-10-03 09:23:00  2437627807         []   \n",
       "\n",
       "                                               title  \\\n",
       "0  ¡Vivan los novios! Así fue la primera boda en ...   \n",
       "1                                   Lunes de Netflix   \n",
       "2  Tiktoker Chingu Amiga pone puesto de elotes; g...   \n",
       "\n",
       "                                                 url  word_count  \n",
       "0  https://www.milenio.com/virales/celebran-prime...         NaN  \n",
       "1  https://www.milenio.com/opinion/alvaro-cueva/e...         NaN  \n",
       "2  https://www.milenio.com/virales/chingu-amiga-t...         NaN  "
      ]
     },
     "execution_count": 9,
     "metadata": {},
     "output_type": "execute_result"
    }
   ],
   "source": [
    "# Read csv file as dataframe\n",
    "df = pd.read_csv(f'{data_raw}/milenio.csv')\n",
    "\n",
    "#Print dataframe shape\n",
    "print(df.shape)\n",
    "\n",
    "# Show dataframe\n",
    "df.head(3)"
   ]
  },
  {
   "cell_type": "code",
   "execution_count": 20,
   "metadata": {},
   "outputs": [
    {
     "name": "stdout",
     "output_type": "stream",
     "text": [
      "(46, 16)\n"
     ]
    }
   ],
   "source": [
    "# Filter dataframe\n",
    "df_urls = df[df[\"url\"].str.contains('negocios|politica')==True]\n",
    "\n",
    "# Show dataframe size\n",
    "print(df_urls.shape)\n",
    "\n",
    "# Convert column to list\n",
    "urls = df_urls['url']"
   ]
  },
  {
   "attachments": {},
   "cell_type": "markdown",
   "metadata": {},
   "source": [
    "### Export data"
   ]
  },
  {
   "cell_type": "code",
   "execution_count": 21,
   "metadata": {},
   "outputs": [],
   "source": [
    "urls.to_csv(f'{data_raw}/milenio_urls.csv', index=False)"
   ]
  }
 ],
 "metadata": {
  "kernelspec": {
   "display_name": "customized_headlines-FvG73Ws_",
   "language": "python",
   "name": "python3"
  },
  "language_info": {
   "codemirror_mode": {
    "name": "ipython",
    "version": 3
   },
   "file_extension": ".py",
   "mimetype": "text/x-python",
   "name": "python",
   "nbconvert_exporter": "python",
   "pygments_lexer": "ipython3",
   "version": "3.8.10"
  },
  "orig_nbformat": 4
 },
 "nbformat": 4,
 "nbformat_minor": 2
}
