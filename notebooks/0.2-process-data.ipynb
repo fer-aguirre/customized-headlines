{
 "cells": [
  {
   "attachments": {},
   "cell_type": "markdown",
   "metadata": {},
   "source": [
    "### Imports"
   ]
  },
  {
   "cell_type": "code",
   "execution_count": 1,
   "metadata": {},
   "outputs": [],
   "source": [
    "import customized_headlines.data.load as load\n",
    "import re\n",
    "import pandas as pd\n",
    "import preprocessor as p\n",
    "from gensim.utils import deaccent\n",
    "from emoji import demojize"
   ]
  },
  {
   "attachments": {},
   "cell_type": "markdown",
   "metadata": {},
   "source": [
    "### Load data"
   ]
  },
  {
   "cell_type": "code",
   "execution_count": 2,
   "metadata": {},
   "outputs": [],
   "source": [
    "data_raw = load.data_raw\n",
    "data_processed = load. data_processed"
   ]
  },
  {
   "attachments": {},
   "cell_type": "markdown",
   "metadata": {},
   "source": [
    "### Read data"
   ]
  },
  {
   "cell_type": "code",
   "execution_count": 3,
   "metadata": {},
   "outputs": [
    {
     "name": "stdout",
     "output_type": "stream",
     "text": [
      "(100, 20)\n"
     ]
    },
    {
     "data": {
      "text/html": [
       "<div>\n",
       "<style scoped>\n",
       "    .dataframe tbody tr th:only-of-type {\n",
       "        vertical-align: middle;\n",
       "    }\n",
       "\n",
       "    .dataframe tbody tr th {\n",
       "        vertical-align: top;\n",
       "    }\n",
       "\n",
       "    .dataframe thead th {\n",
       "        text-align: right;\n",
       "    }\n",
       "</style>\n",
       "<table border=\"1\" class=\"dataframe\">\n",
       "  <thead>\n",
       "    <tr style=\"text-align: right;\">\n",
       "      <th></th>\n",
       "      <th>url</th>\n",
       "      <th>index</th>\n",
       "      <th>resolved</th>\n",
       "      <th>status</th>\n",
       "      <th>datetime_utc</th>\n",
       "      <th>error</th>\n",
       "      <th>filename</th>\n",
       "      <th>mimetype</th>\n",
       "      <th>encoding</th>\n",
       "      <th>extract_error</th>\n",
       "      <th>canonical_url</th>\n",
       "      <th>title</th>\n",
       "      <th>description</th>\n",
       "      <th>raw_content</th>\n",
       "      <th>comments</th>\n",
       "      <th>author</th>\n",
       "      <th>categories</th>\n",
       "      <th>tags</th>\n",
       "      <th>date</th>\n",
       "      <th>sitename</th>\n",
       "    </tr>\n",
       "  </thead>\n",
       "  <tbody>\n",
       "    <tr>\n",
       "      <th>0</th>\n",
       "      <td>https://unamglobal.unam.mx/comunidades-indigen...</td>\n",
       "      <td>46</td>\n",
       "      <td>NaN</td>\n",
       "      <td>200</td>\n",
       "      <td>2023-04-02T15:25:07.419616</td>\n",
       "      <td>NaN</td>\n",
       "      <td>16dd649be430106e823d0f6ad1d7c638.html</td>\n",
       "      <td>text/html</td>\n",
       "      <td>utf-8</td>\n",
       "      <td>NaN</td>\n",
       "      <td>https://unamglobal.unam.mx/comunidades-indigen...</td>\n",
       "      <td>Comunidades indígenas urbanas en tiempos de pa...</td>\n",
       "      <td>La pandemia derivada de la COVID-19 ha signifi...</td>\n",
       "      <td>La pandemia derivada de la COVID-19 ha signifi...</td>\n",
       "      <td>NaN</td>\n",
       "      <td>Beto Torres</td>\n",
       "      <td>BLOG|Opinión</td>\n",
       "      <td>blog|opinión|blog|opinión</td>\n",
       "      <td>2021-02-09</td>\n",
       "      <td>UNAM Global</td>\n",
       "    </tr>\n",
       "    <tr>\n",
       "      <th>1</th>\n",
       "      <td>https://www.milenio.com/negocios/larry-rubin-t...</td>\n",
       "      <td>0</td>\n",
       "      <td>NaN</td>\n",
       "      <td>200</td>\n",
       "      <td>2023-04-02T15:25:07.112501</td>\n",
       "      <td>NaN</td>\n",
       "      <td>bf6c8a5bb799314dcdb37c7085c38a81.html</td>\n",
       "      <td>text/html</td>\n",
       "      <td>utf-8</td>\n",
       "      <td>NaN</td>\n",
       "      <td>https://www.milenio.com/negocios/larry-rubin-t...</td>\n",
       "      <td>Larry Rubin: Próximo titular de Economía deber...</td>\n",
       "      <td>Larry Rubin, presidente de la American Society...</td>\n",
       "      <td>El presidente de la American Society of Mexico...</td>\n",
       "      <td>NaN</td>\n",
       "      <td>Eduardo de la Rosa</td>\n",
       "      <td>Negocios</td>\n",
       "      <td>American Society of Mexico|tatiana clouthier|a...</td>\n",
       "      <td>2022-10-06</td>\n",
       "      <td>Grupo Milenio</td>\n",
       "    </tr>\n",
       "    <tr>\n",
       "      <th>2</th>\n",
       "      <td>https://unamglobal.unam.mx/el-giro-y-el-miedo-...</td>\n",
       "      <td>47</td>\n",
       "      <td>NaN</td>\n",
       "      <td>200</td>\n",
       "      <td>2023-04-02T15:25:09.140811</td>\n",
       "      <td>NaN</td>\n",
       "      <td>99ef9ca8a1832cd7de1d7cf6cb6d54c8.html</td>\n",
       "      <td>text/html</td>\n",
       "      <td>utf-8</td>\n",
       "      <td>NaN</td>\n",
       "      <td>https://unamglobal.unam.mx/el-giro-y-el-miedo-...</td>\n",
       "      <td>El Giro y el miedo a la bici | UNAM Global</td>\n",
       "      <td>Hace unos días se celebró en Turín la centésim...</td>\n",
       "      <td>Hace unos días se celebró en Turín la centésim...</td>\n",
       "      <td>NaN</td>\n",
       "      <td>Beto Torres</td>\n",
       "      <td>BLOG|Opinión</td>\n",
       "      <td>blog|opinión|blog|opinión</td>\n",
       "      <td>2021-05-19</td>\n",
       "      <td>UNAM Global</td>\n",
       "    </tr>\n",
       "  </tbody>\n",
       "</table>\n",
       "</div>"
      ],
      "text/plain": [
       "                                                 url  index  resolved  status  \\\n",
       "0  https://unamglobal.unam.mx/comunidades-indigen...     46       NaN     200   \n",
       "1  https://www.milenio.com/negocios/larry-rubin-t...      0       NaN     200   \n",
       "2  https://unamglobal.unam.mx/el-giro-y-el-miedo-...     47       NaN     200   \n",
       "\n",
       "                 datetime_utc  error                               filename  \\\n",
       "0  2023-04-02T15:25:07.419616    NaN  16dd649be430106e823d0f6ad1d7c638.html   \n",
       "1  2023-04-02T15:25:07.112501    NaN  bf6c8a5bb799314dcdb37c7085c38a81.html   \n",
       "2  2023-04-02T15:25:09.140811    NaN  99ef9ca8a1832cd7de1d7cf6cb6d54c8.html   \n",
       "\n",
       "    mimetype encoding  extract_error  \\\n",
       "0  text/html    utf-8            NaN   \n",
       "1  text/html    utf-8            NaN   \n",
       "2  text/html    utf-8            NaN   \n",
       "\n",
       "                                       canonical_url  \\\n",
       "0  https://unamglobal.unam.mx/comunidades-indigen...   \n",
       "1  https://www.milenio.com/negocios/larry-rubin-t...   \n",
       "2  https://unamglobal.unam.mx/el-giro-y-el-miedo-...   \n",
       "\n",
       "                                               title  \\\n",
       "0  Comunidades indígenas urbanas en tiempos de pa...   \n",
       "1  Larry Rubin: Próximo titular de Economía deber...   \n",
       "2         El Giro y el miedo a la bici | UNAM Global   \n",
       "\n",
       "                                         description  \\\n",
       "0  La pandemia derivada de la COVID-19 ha signifi...   \n",
       "1  Larry Rubin, presidente de la American Society...   \n",
       "2  Hace unos días se celebró en Turín la centésim...   \n",
       "\n",
       "                                         raw_content  comments  \\\n",
       "0  La pandemia derivada de la COVID-19 ha signifi...       NaN   \n",
       "1  El presidente de la American Society of Mexico...       NaN   \n",
       "2  Hace unos días se celebró en Turín la centésim...       NaN   \n",
       "\n",
       "               author    categories  \\\n",
       "0         Beto Torres  BLOG|Opinión   \n",
       "1  Eduardo de la Rosa      Negocios   \n",
       "2         Beto Torres  BLOG|Opinión   \n",
       "\n",
       "                                                tags        date  \\\n",
       "0                          blog|opinión|blog|opinión  2021-02-09   \n",
       "1  American Society of Mexico|tatiana clouthier|a...  2022-10-06   \n",
       "2                          blog|opinión|blog|opinión  2021-05-19   \n",
       "\n",
       "        sitename  \n",
       "0    UNAM Global  \n",
       "1  Grupo Milenio  \n",
       "2    UNAM Global  "
      ]
     },
     "execution_count": 3,
     "metadata": {},
     "output_type": "execute_result"
    }
   ],
   "source": [
    "# Read csv file as dataframe\n",
    "df = pd.read_csv(f'{data_raw}/extracted_news.csv')\n",
    "\n",
    "# Print dataframe shape\n",
    "print(df.shape)\n",
    "\n",
    "# Show dataframe\n",
    "df.head(3)"
   ]
  },
  {
   "attachments": {},
   "cell_type": "markdown",
   "metadata": {},
   "source": [
    "### Process"
   ]
  },
  {
   "cell_type": "code",
   "execution_count": 4,
   "metadata": {},
   "outputs": [],
   "source": [
    "# Remove urls\n",
    "p.set_options(p.OPT.URL)\n",
    "df['clean_content'] = df['raw_content'].apply(lambda x: p.clean(x))\n",
    "\n",
    "# Remove accents\n",
    "df['clean_content'] = df['clean_content'].apply(lambda x: deaccent(x))\n",
    "\n",
    "# Tokenize mentions and hashtags\n",
    "p.set_options(p.OPT.MENTION, p.OPT.HASHTAG)\n",
    "df['clean_content'] = df['clean_content'].apply(lambda x: p.tokenize(x))\n",
    "\n",
    "# Remove two or more question marks together\n",
    "df['clean_content'] = df['clean_content'].apply(lambda x : re.sub(r'\\?{2,}', '', x))\n",
    "\n",
    "# Replace emojis with descriptions\n",
    "df['clean_content'] = df['clean_content'].apply(lambda x: demojize(x))"
   ]
  },
  {
   "cell_type": "code",
   "execution_count": 5,
   "metadata": {},
   "outputs": [],
   "source": [
    "# Create new column with title and content\n",
    "df[\"combined\"] = f\"Titulo: {df.title.str.strip()} Contenido: {df.clean_content.str.strip()}\""
   ]
  },
  {
   "attachments": {},
   "cell_type": "markdown",
   "metadata": {},
   "source": [
    "### Export"
   ]
  },
  {
   "cell_type": "code",
   "execution_count": 6,
   "metadata": {},
   "outputs": [],
   "source": [
    "df.to_csv(f'{data_processed}/news.csv', index=False)"
   ]
  }
 ],
 "metadata": {
  "kernelspec": {
   "display_name": "customized_headlines-FvG73Ws_",
   "language": "python",
   "name": "python3"
  },
  "language_info": {
   "codemirror_mode": {
    "name": "ipython",
    "version": 3
   },
   "file_extension": ".py",
   "mimetype": "text/x-python",
   "name": "python",
   "nbconvert_exporter": "python",
   "pygments_lexer": "ipython3",
   "version": "3.8.10"
  },
  "orig_nbformat": 4
 },
 "nbformat": 4,
 "nbformat_minor": 2
}
