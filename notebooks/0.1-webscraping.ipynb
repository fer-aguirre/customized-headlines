{
 "cells": [
  {
   "cell_type": "code",
   "execution_count": 1,
   "metadata": {},
   "outputs": [],
   "source": [
    "from tqdm import tqdm\n",
    "import customized_headlines.data.load as load\n",
    "import customized_headlines.data.analyze as analyze\n",
    "import customized_headlines.data.export as export"
   ]
  },
  {
   "attachments": {},
   "cell_type": "markdown",
   "metadata": {},
   "source": [
    "### Load data"
   ]
  },
  {
   "cell_type": "code",
   "execution_count": 2,
   "metadata": {},
   "outputs": [],
   "source": [
    "# Load data processed\n",
    "news = load.news"
   ]
  },
  {
   "attachments": {},
   "cell_type": "markdown",
   "metadata": {},
   "source": [
    "### Read data"
   ]
  },
  {
   "cell_type": "code",
   "execution_count": 3,
   "metadata": {},
   "outputs": [
    {
     "data": {
      "text/html": [
       "<div>\n",
       "<style scoped>\n",
       "    .dataframe tbody tr th:only-of-type {\n",
       "        vertical-align: middle;\n",
       "    }\n",
       "\n",
       "    .dataframe tbody tr th {\n",
       "        vertical-align: top;\n",
       "    }\n",
       "\n",
       "    .dataframe thead th {\n",
       "        text-align: right;\n",
       "    }\n",
       "</style>\n",
       "<table border=\"1\" class=\"dataframe\">\n",
       "  <thead>\n",
       "    <tr style=\"text-align: right;\">\n",
       "      <th></th>\n",
       "      <th>ap_syndicated</th>\n",
       "      <th>collect_date</th>\n",
       "      <th>feeds</th>\n",
       "      <th>guid</th>\n",
       "      <th>language</th>\n",
       "      <th>media_id</th>\n",
       "      <th>media_name</th>\n",
       "      <th>media_url</th>\n",
       "      <th>metadata</th>\n",
       "      <th>processed_stories_id</th>\n",
       "      <th>publish_date</th>\n",
       "      <th>stories_id</th>\n",
       "      <th>story_tags</th>\n",
       "      <th>title</th>\n",
       "      <th>url</th>\n",
       "      <th>word_count</th>\n",
       "      <th>category</th>\n",
       "    </tr>\n",
       "  </thead>\n",
       "  <tbody>\n",
       "    <tr>\n",
       "      <th>0</th>\n",
       "      <td>False</td>\n",
       "      <td>2022-10-01 20:20:35.457433</td>\n",
       "      <td>NaN</td>\n",
       "      <td>article 1483585 at https://www.milenio.com</td>\n",
       "      <td>es</td>\n",
       "      <td>22579</td>\n",
       "      <td>milenio.com</td>\n",
       "      <td>http://www.milenio.com</td>\n",
       "      <td>{'date_guess_method': None, 'extractor_version...</td>\n",
       "      <td>2822106553</td>\n",
       "      <td>2022-10-01 19:58:00</td>\n",
       "      <td>2436520582</td>\n",
       "      <td>[]</td>\n",
       "      <td>¡Vivan los novios! Así fue la primera boda en ...</td>\n",
       "      <td>https://www.milenio.com/virales/celebran-prime...</td>\n",
       "      <td>NaN</td>\n",
       "      <td>milenio</td>\n",
       "    </tr>\n",
       "  </tbody>\n",
       "</table>\n",
       "</div>"
      ],
      "text/plain": [
       "   ap_syndicated                collect_date  feeds  \\\n",
       "0          False  2022-10-01 20:20:35.457433    NaN   \n",
       "\n",
       "                                         guid language  media_id   media_name  \\\n",
       "0  article 1483585 at https://www.milenio.com       es     22579  milenio.com   \n",
       "\n",
       "                media_url                                           metadata  \\\n",
       "0  http://www.milenio.com  {'date_guess_method': None, 'extractor_version...   \n",
       "\n",
       "   processed_stories_id         publish_date  stories_id story_tags  \\\n",
       "0            2822106553  2022-10-01 19:58:00  2436520582         []   \n",
       "\n",
       "                                               title  \\\n",
       "0  ¡Vivan los novios! Así fue la primera boda en ...   \n",
       "\n",
       "                                                 url  word_count category  \n",
       "0  https://www.milenio.com/virales/celebran-prime...         NaN  milenio  "
      ]
     },
     "execution_count": 3,
     "metadata": {},
     "output_type": "execute_result"
    }
   ],
   "source": [
    "# Read csv file as dataframe\n",
    "df = load.read_csv(news)\n",
    "# Show dataframe\n",
    "df.head(1)"
   ]
  },
  {
   "cell_type": "code",
   "execution_count": 4,
   "metadata": {},
   "outputs": [
    {
     "name": "stderr",
     "output_type": "stream",
     "text": [
      "100%|██████████| 227/227 [03:10<00:00,  1.19it/s]\n"
     ]
    }
   ],
   "source": [
    "# Get a list of values from a column\n",
    "urls = analyze.get_col_val(df, 'url')\n",
    "\n",
    "# Create an empty list\n",
    "texts = []\n",
    "# Iterate through urls list\n",
    "for i in tqdm(range(len(urls))):\n",
    "    # Make a request\n",
    "    request = analyze.make_request(urls[i])\n",
    "    text = analyze.extract_text(request)\n",
    "    texts.append(text)"
   ]
  },
  {
   "cell_type": "code",
   "execution_count": 5,
   "metadata": {},
   "outputs": [],
   "source": [
    "# Remove new lines from texts\n",
    "texts = [x.replace('\\n', '') for x in texts]"
   ]
  },
  {
   "cell_type": "code",
   "execution_count": 6,
   "metadata": {},
   "outputs": [
    {
     "data": {
      "text/html": [
       "<div>\n",
       "<style scoped>\n",
       "    .dataframe tbody tr th:only-of-type {\n",
       "        vertical-align: middle;\n",
       "    }\n",
       "\n",
       "    .dataframe tbody tr th {\n",
       "        vertical-align: top;\n",
       "    }\n",
       "\n",
       "    .dataframe thead th {\n",
       "        text-align: right;\n",
       "    }\n",
       "</style>\n",
       "<table border=\"1\" class=\"dataframe\">\n",
       "  <thead>\n",
       "    <tr style=\"text-align: right;\">\n",
       "      <th></th>\n",
       "      <th>ap_syndicated</th>\n",
       "      <th>collect_date</th>\n",
       "      <th>feeds</th>\n",
       "      <th>guid</th>\n",
       "      <th>language</th>\n",
       "      <th>media_id</th>\n",
       "      <th>media_name</th>\n",
       "      <th>media_url</th>\n",
       "      <th>metadata</th>\n",
       "      <th>processed_stories_id</th>\n",
       "      <th>publish_date</th>\n",
       "      <th>stories_id</th>\n",
       "      <th>story_tags</th>\n",
       "      <th>title</th>\n",
       "      <th>url</th>\n",
       "      <th>word_count</th>\n",
       "      <th>category</th>\n",
       "      <th>text</th>\n",
       "    </tr>\n",
       "  </thead>\n",
       "  <tbody>\n",
       "    <tr>\n",
       "      <th>0</th>\n",
       "      <td>False</td>\n",
       "      <td>2022-10-01 20:20:35.457433</td>\n",
       "      <td>NaN</td>\n",
       "      <td>article 1483585 at https://www.milenio.com</td>\n",
       "      <td>es</td>\n",
       "      <td>22579</td>\n",
       "      <td>milenio.com</td>\n",
       "      <td>http://www.milenio.com</td>\n",
       "      <td>{'date_guess_method': None, 'extractor_version...</td>\n",
       "      <td>2822106553</td>\n",
       "      <td>2022-10-01 19:58:00</td>\n",
       "      <td>2436520582</td>\n",
       "      <td>[]</td>\n",
       "      <td>¡Vivan los novios! Así fue la primera boda en ...</td>\n",
       "      <td>https://www.milenio.com/virales/celebran-prime...</td>\n",
       "      <td>NaN</td>\n",
       "      <td>milenio</td>\n",
       "      <td>Celebran primera boda en iglesia Maradoniana e...</td>\n",
       "    </tr>\n",
       "  </tbody>\n",
       "</table>\n",
       "</div>"
      ],
      "text/plain": [
       "   ap_syndicated                collect_date  feeds  \\\n",
       "0          False  2022-10-01 20:20:35.457433    NaN   \n",
       "\n",
       "                                         guid language  media_id   media_name  \\\n",
       "0  article 1483585 at https://www.milenio.com       es     22579  milenio.com   \n",
       "\n",
       "                media_url                                           metadata  \\\n",
       "0  http://www.milenio.com  {'date_guess_method': None, 'extractor_version...   \n",
       "\n",
       "   processed_stories_id         publish_date  stories_id story_tags  \\\n",
       "0            2822106553  2022-10-01 19:58:00  2436520582         []   \n",
       "\n",
       "                                               title  \\\n",
       "0  ¡Vivan los novios! Así fue la primera boda en ...   \n",
       "\n",
       "                                                 url  word_count category  \\\n",
       "0  https://www.milenio.com/virales/celebran-prime...         NaN  milenio   \n",
       "\n",
       "                                                text  \n",
       "0  Celebran primera boda en iglesia Maradoniana e...  "
      ]
     },
     "execution_count": 6,
     "metadata": {},
     "output_type": "execute_result"
    }
   ],
   "source": [
    "# Assign list to column in dataframe\n",
    "df['text'] = texts\n",
    "\n",
    "# Show dataframe\n",
    "df.head(1)"
   ]
  },
  {
   "attachments": {},
   "cell_type": "markdown",
   "metadata": {},
   "source": [
    "### Exports"
   ]
  },
  {
   "cell_type": "code",
   "execution_count": 7,
   "metadata": {},
   "outputs": [],
   "source": [
    "# Save dataframe as csv\n",
    "export.df_csv(df, news)"
   ]
  }
 ],
 "metadata": {
  "kernelspec": {
   "display_name": "customized_headlines-FvG73Ws_",
   "language": "python",
   "name": "python3"
  },
  "language_info": {
   "codemirror_mode": {
    "name": "ipython",
    "version": 3
   },
   "file_extension": ".py",
   "mimetype": "text/x-python",
   "name": "python",
   "nbconvert_exporter": "python",
   "pygments_lexer": "ipython3",
   "version": "3.8.10"
  },
  "orig_nbformat": 4,
  "vscode": {
   "interpreter": {
    "hash": "8b725b10da2d3edb26298de5c64855d2d8517f0dee0cc115a411a016ea5506c4"
   }
  }
 },
 "nbformat": 4,
 "nbformat_minor": 2
}
