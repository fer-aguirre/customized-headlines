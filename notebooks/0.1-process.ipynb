{
 "cells": [
  {
   "cell_type": "code",
   "execution_count": 2,
   "metadata": {},
   "outputs": [],
   "source": [
    "from urllib.request import Request, urlopen\n",
    "from bs4 import BeautifulSoup\n",
    "import numpy as np\n",
    "import customized_headlines.data.load as load\n",
    "import customized_headlines.data.process as process\n",
    "import customized_headlines.data.analyze as analyze\n",
    "import customized_headlines.data.export as export"
   ]
  },
  {
   "attachments": {},
   "cell_type": "markdown",
   "metadata": {},
   "source": [
    "### Load data"
   ]
  },
  {
   "cell_type": "code",
   "execution_count": 3,
   "metadata": {},
   "outputs": [],
   "source": [
    "news_sample = load.news_sample"
   ]
  },
  {
   "attachments": {},
   "cell_type": "markdown",
   "metadata": {},
   "source": [
    "### Read data"
   ]
  },
  {
   "cell_type": "code",
   "execution_count": 4,
   "metadata": {},
   "outputs": [
    {
     "data": {
      "text/html": [
       "<div>\n",
       "<style scoped>\n",
       "    .dataframe tbody tr th:only-of-type {\n",
       "        vertical-align: middle;\n",
       "    }\n",
       "\n",
       "    .dataframe tbody tr th {\n",
       "        vertical-align: top;\n",
       "    }\n",
       "\n",
       "    .dataframe thead th {\n",
       "        text-align: right;\n",
       "    }\n",
       "</style>\n",
       "<table border=\"1\" class=\"dataframe\">\n",
       "  <thead>\n",
       "    <tr style=\"text-align: right;\">\n",
       "      <th></th>\n",
       "      <th>archived_url</th>\n",
       "      <th>article_url</th>\n",
       "      <th>id</th>\n",
       "      <th>language</th>\n",
       "      <th>media_name</th>\n",
       "      <th>media_url</th>\n",
       "      <th>publish_date</th>\n",
       "      <th>title</th>\n",
       "      <th>url</th>\n",
       "      <th>category</th>\n",
       "    </tr>\n",
       "  </thead>\n",
       "  <tbody>\n",
       "    <tr>\n",
       "      <th>0</th>\n",
       "      <td>https://web.archive.org/web/20230307062430/htt...</td>\n",
       "      <td>https://wayback-api.archive.org/colsearch/v1/m...</td>\n",
       "      <td>20230307062430</td>\n",
       "      <td>es</td>\n",
       "      <td>24-horas.mx</td>\n",
       "      <td>http://24-horas.mx</td>\n",
       "      <td>2023-03-06 00:00:00</td>\n",
       "      <td>AMLO; apoya a Samuel García ante conflicto con...</td>\n",
       "      <td>https://www.24-horas.mx/2023/03/06/amlo-apoya-...</td>\n",
       "      <td>negocios</td>\n",
       "    </tr>\n",
       "    <tr>\n",
       "      <th>1</th>\n",
       "      <td>https://web.archive.org/web/20230310180831/htt...</td>\n",
       "      <td>https://wayback-api.archive.org/colsearch/v1/m...</td>\n",
       "      <td>20230310180831</td>\n",
       "      <td>es</td>\n",
       "      <td>elgrafico.mx</td>\n",
       "      <td>http://elgrafico.mx</td>\n",
       "      <td>2023-03-06 00:00:00</td>\n",
       "      <td>8M 2023 Día de la Mujer, La actriz XXX Marian ...</td>\n",
       "      <td>https://www.elgrafico.mx/historias/dia-de-la-m...</td>\n",
       "      <td>negocios</td>\n",
       "    </tr>\n",
       "    <tr>\n",
       "      <th>2</th>\n",
       "      <td>https://web.archive.org/web/20230310065336/htt...</td>\n",
       "      <td>https://wayback-api.archive.org/colsearch/v1/m...</td>\n",
       "      <td>20230310065336</td>\n",
       "      <td>es</td>\n",
       "      <td>milenio.com</td>\n",
       "      <td>http://milenio.com</td>\n",
       "      <td>2023-03-08 00:00:00</td>\n",
       "      <td>AT&amp;T México es reconocida por promover la igua...</td>\n",
       "      <td>https://www.milenio.com/politica/att-mexico-re...</td>\n",
       "      <td>negocios</td>\n",
       "    </tr>\n",
       "    <tr>\n",
       "      <th>3</th>\n",
       "      <td>https://web.archive.org/web/20230302061437/htt...</td>\n",
       "      <td>https://wayback-api.archive.org/colsearch/v1/m...</td>\n",
       "      <td>20230302061437</td>\n",
       "      <td>es</td>\n",
       "      <td>elfinanciero.com.mx</td>\n",
       "      <td>http://elfinanciero.com.mx</td>\n",
       "      <td>2023-03-01 00:00:00</td>\n",
       "      <td>¿Está México listo para más ‘Teslas’?</td>\n",
       "      <td>https://www.elfinanciero.com.mx/opinion/victor...</td>\n",
       "      <td>negocios</td>\n",
       "    </tr>\n",
       "    <tr>\n",
       "      <th>4</th>\n",
       "      <td>https://web.archive.org/web/20230304091619/htt...</td>\n",
       "      <td>https://wayback-api.archive.org/colsearch/v1/m...</td>\n",
       "      <td>20230304091619</td>\n",
       "      <td>es</td>\n",
       "      <td>milenio.com</td>\n",
       "      <td>http://milenio.com</td>\n",
       "      <td>2023-03-03 00:00:00</td>\n",
       "      <td>Mhoni Vidente: Horóscopo y Predicciones del 03...</td>\n",
       "      <td>https://www.milenio.com/estilo/mhoni-vidente-h...</td>\n",
       "      <td>negocios</td>\n",
       "    </tr>\n",
       "  </tbody>\n",
       "</table>\n",
       "</div>"
      ],
      "text/plain": [
       "                                        archived_url  \\\n",
       "0  https://web.archive.org/web/20230307062430/htt...   \n",
       "1  https://web.archive.org/web/20230310180831/htt...   \n",
       "2  https://web.archive.org/web/20230310065336/htt...   \n",
       "3  https://web.archive.org/web/20230302061437/htt...   \n",
       "4  https://web.archive.org/web/20230304091619/htt...   \n",
       "\n",
       "                                         article_url              id language  \\\n",
       "0  https://wayback-api.archive.org/colsearch/v1/m...  20230307062430       es   \n",
       "1  https://wayback-api.archive.org/colsearch/v1/m...  20230310180831       es   \n",
       "2  https://wayback-api.archive.org/colsearch/v1/m...  20230310065336       es   \n",
       "3  https://wayback-api.archive.org/colsearch/v1/m...  20230302061437       es   \n",
       "4  https://wayback-api.archive.org/colsearch/v1/m...  20230304091619       es   \n",
       "\n",
       "            media_name                   media_url         publish_date  \\\n",
       "0          24-horas.mx          http://24-horas.mx  2023-03-06 00:00:00   \n",
       "1         elgrafico.mx         http://elgrafico.mx  2023-03-06 00:00:00   \n",
       "2          milenio.com          http://milenio.com  2023-03-08 00:00:00   \n",
       "3  elfinanciero.com.mx  http://elfinanciero.com.mx  2023-03-01 00:00:00   \n",
       "4          milenio.com          http://milenio.com  2023-03-03 00:00:00   \n",
       "\n",
       "                                               title  \\\n",
       "0  AMLO; apoya a Samuel García ante conflicto con...   \n",
       "1  8M 2023 Día de la Mujer, La actriz XXX Marian ...   \n",
       "2  AT&T México es reconocida por promover la igua...   \n",
       "3              ¿Está México listo para más ‘Teslas’?   \n",
       "4  Mhoni Vidente: Horóscopo y Predicciones del 03...   \n",
       "\n",
       "                                                 url  category  \n",
       "0  https://www.24-horas.mx/2023/03/06/amlo-apoya-...  negocios  \n",
       "1  https://www.elgrafico.mx/historias/dia-de-la-m...  negocios  \n",
       "2  https://www.milenio.com/politica/att-mexico-re...  negocios  \n",
       "3  https://www.elfinanciero.com.mx/opinion/victor...  negocios  \n",
       "4  https://www.milenio.com/estilo/mhoni-vidente-h...  negocios  "
      ]
     },
     "execution_count": 4,
     "metadata": {},
     "output_type": "execute_result"
    }
   ],
   "source": [
    "# Read csv file as dataframe\n",
    "df = load.read_csv(news_sample)\n",
    "# Show dataframe\n",
    "df.head(5)"
   ]
  },
  {
   "cell_type": "code",
   "execution_count": 10,
   "metadata": {},
   "outputs": [],
   "source": [
    "def make_request(url: str):\n",
    "    \"\"\"\n",
    "    Function to make a http request and parse html content\n",
    "\n",
    "    url: str\n",
    "    return: BeautifulSoup object\n",
    "    \"\"\"\n",
    "    # Make a http request to the specified url\n",
    "    response = Request(url, headers={\"User-Agent\": \"Mozilla/5.0\"})\n",
    "    # Return content of the response\n",
    "    html = urlopen(response).read()\n",
    "    return BeautifulSoup(html, \"html.parser\")\n",
    "\n",
    "\n",
    "def extract_text(soup):\n",
    "    \"\"\"\n",
    "    Function to parse text from url\n",
    "\n",
    "    soup: BeautifulSoup object\n",
    "    return: str\n",
    "    \"\"\"\n",
    "    try:\n",
    "        for data in soup([\"style\", \"script\"]):\n",
    "            # Remove tags\n",
    "            data.decompose()\n",
    "        text = \" \".join(soup.stripped_strings)\n",
    "    except Exception:\n",
    "        text = np.nan\n",
    "    # Return data by retrieving the tag content\n",
    "    return text"
   ]
  },
  {
   "cell_type": "code",
   "execution_count": 12,
   "metadata": {},
   "outputs": [
    {
     "data": {
      "text/plain": [
       "'AMLO; apoya a Samuel García ante conflicto con el congreso de NL - 24 Horas Close Impreso Recíbelo Diario Search for: Search México CDMX Estados Negocios Mundo Vida+ DxT Reporteros Universitarios Opinión Facebook Page Twitter Username Instagram Linkedin YouTube Secciones México CDMX Estados Negocios Mundo Vida+ DxT Reporteros Universitarios Pláticas de café Estados Baja California Sur Campeche CDMX Durango Edomex Nezahualcóyotl Guanajuato Guerrero Morelos Oaxaca Puebla Querétaro Quintana Roo San Luis Potosí Sonora Sonora Tamaulipas Tlaxcala Yucatán Opinión Impreso Close Secciones México CDMX Estados Negocios Mundo Vida+ DxT Reporteros Universitarios Pláticas de café Estados Baja California Sur Campeche CDMX Durango Edomex Nezahualcóyotl Guanajuato Guerrero Morelos Oaxaca Puebla Querétaro Quintana Roo San Luis Potosí Sonora Sonora Tamaulipas Tlaxcala Yucatán Opinión Impreso Skip to content Menu Facebook Page Twitter Username Instagram Linkedin YouTube 24 Horas El Diario Sin Límites Impreso Recíbelo Diario Open Search Search for: Search Menu México CDMX Estados Negocios Mundo Vida+ DxT Reporteros Universitarios Opinión HOY Tamaulipas 8M2023 AMLO Liga MX Champions Inicio » Minuto a Minuto » Opinión » Desde las Cámaras Legislativas » AMLO; apoya a Samuel García ante conflicto con el congreso de NL Posted in Desde las Cámaras Legislativas AMLO; apoya a Samuel García ante conflicto con el congreso de NL by Jesús Héctor Muñoz Escobar marzo 6, 2023 marzo 5, 2023 Share this: Click to share on Twitter (Opens in new window) Click to share on Facebook (Opens in new window) Click to share on LinkedIn (Opens in new window) Click to share on Telegram (Opens in new window) Click to share on WhatsApp (Opens in new window) More Click to print (Opens in new window) Click to share on Reddit (Opens in new window) Click to share on Tumblr (Opens in new window) Click to share on Pinterest (Opens in new window) Click to share on Pocket (Opens in new window) Click to share on Skype (Opens in new window) El presidente Andrés Manuel López Obrador , durante su gira de trabajo por Nuevo León, dio su respaldo a Samuel García , gobernador de Nuevo León, ante el intento del Congreso del estado por desaforarlo, aseguró que quieren chantajear al mandatario local: ¡Samuel, aguanta, el pueblo se levanta!. Estoy a favor del gobernador, es que estos diputados, sus partidos, sus jefes, los están mal aconsejando a los legisladores, porque están queriendo chantajear al gobernador, quieren moches, quieren corrupción, y eso no es posible, es contrario a la constitución y a la leyes. López Obrador , sugirió que se debería investigar a los dirigentes de los partidos por tratar de tener injerencias en asuntos que no les corresponden. Todo este asunto es porque quieren que sea como antes en el gobierno federal, que les entregaban moches a los dirigentes de partidos para que aprobaran los presupuestos o se hacían negociaciones en lo oscurito para repartirse el presupuesto. El gobernador Samuel García compartió las palabras de apoyo de AMLO y comentó: Gracias por todo el apoyo presidente. La visita de AMLO a Nuevo León se dio para supervisar el acueducto el Cuchillo II, en Monterrey; además en el marco de la llegada de Tesla a esa entidad, en donde la empresa de Elon Musk construirá su nueva Gigafactory. Sobre este tema, AMLO reconoció la promoción y la gestión del gobernador Samuel García así como la buena actitud del empresario Elon Musk , de contribuir al desarrollo industrial y lograr el acuerdo para la construcción de una planta de Tesla en la entidad. DIPUTADO IGNACIO MIER; REFORMA ELECTORAL RINDE PRIMEROS FRUTOS El diputado Ignacio Mier Velazco , coordinador del Grupo Parlamentario de Morena, manifestó que la transformación del país está en desarrollo de la mano del pueblo, abanderando los principios de no mentir, no robar y no traicionar. Señaló que las reformas en materia electoral ya están dando los primeros resultados tras su publicación en el Diario Oficial de la Federación, pues los consejeros del Instituto Nacional Electoral han demostrado que sí forman parte del grupo conservador que busca proteger y mantener los privilegios que se gestaron en los regímenes neoliberales. En el marco del análisis que la Suprema Corte de Justicia de la Nación realizará a la resolución Tribunal Electoral del Poder Judicial de la Federación sobre la elección de las y los consejeros, Mier Velazco expresó que los actuales consejeros del INE salen a fijar una postura lo cual demuestra que siempre fueron parte de ese grupo. Qué bueno que lo estén haciendo. A nosotros no nos genera ni molestia ni preocupación, yo lo celebro y se los digo. Qué bueno que se reunieron ahí juntos Fox, Margarita Zavala, Alito Moreno, Jesús Ortega, Marko Cortes . El diputado señaló que estas personas solo lograron confirmar que representan una defensa a los intereses económicos, a que se mantengan sueldos de más de 400 mil pesos mensuales, o de más de 230 mil pesos mensuales en el caso de vocales ejecutivos. Manifestó que el Instituto no quiere hacer ningún ajuste a su estructura porque los consejeros electorales fueron seleccionados por los dirigentes de los partidos políticos, a quienes les crearon comisiones y por eso salen con una narrativa de que se quiere acabar con el INE, de que no va a haber módulos electorales, y todo eso es falso. Aseguró que el Plan B de reformas en materia electoral establece un recorte y por tanto un ajuste a su estructura, a fin de que las direcciones generales del Instituto pasen de siete a cinco. Comentó que el INE tiene casi 19 mil trabajadores quienes le cuestan al país 13 mil millones de pesos aun en periodos en los que no hay elecciones. Reiteró que la transformación del país está en desarrollo de la mano del pueblo, abanderando los principios de no mentir, no robar y no traicionar. Ignacio Mier manifestó que se trata de ir acompañados del pueblo en el combate frontal a la corrupción, para despojarnos de todo aquello que daña a la administración pública. SENADOR RICARDO MONREAL; LISTO PARA LA CONTIENDA ELECTORAL, RECORRERÁ TODOS LOS ESTADOS PARA DAR A CONOCER EL PROYECTO DE RECONCILIACIÓN NACIONAL El coordinador de Morena en el Senado de la República y actual aspirante a la candidatura presidencial, Ricardo Monreal Ávila , dio a conocer que todos los sábados y domingos recorrerá los estados del país para dar a conocer el Proyecto de Reconciliación Nacional, un plan muy ambicioso, pero creíble. Monreal Ávila insistió en que se puede llegar al mismo sitio con acuerdos y consensos, con decisiones que a todos nos convengan, en las que estemos unidos en lo fundamental, aunque tengamos diferencias de partidos, de participación o de enfoques. El legislador confió en que, a pesar de que la cancha está dispareja en el proceso interno, ganará la candidatura de Morena a la Presidencia de la República de 2024, con el apoyo de la gente, de los jóvenes que quieren que México prospere. Soy un hombre de esperanza, soy un hombre que ha combatido la adversidad y siempre me han perseguido esas circunstancias que caminan en mi contra. Destacó que se vive un momento clave para la vida del país, por lo que adelantó que visitará los estados de la República para informar sobre el Proyecto de Reconciliación Nacional que promueve. Sí se puede llegar al mismo sitio con acuerdos, con consensos, con decisiones que a todos nos convengan, en las que estemos unidos en lo fundamental, aunque tengamos diferencias de partidos, de participación o de algunos enfoques en particular. Ricardo Monreal visitó las alcaldías de Xochimilco, Milpa Alta y Tláhuac de la Ciudad de México. Esta región, que es el único pulmón de la capital del país, está amenazada por la mancha urbana, la deforestación, la inseguridad, los feminicidios y porque no se respetan los derechos de los pueblos originarios. Hay que apoyar a los trajineros, hay que rescatar los canales, hay que mantener la belleza, hay que cuidar el medio ambiente. MARIO DELGADO; EL PRI NO LLEGARA A LOS 100 AÑOS, SERÁ EXPULSADO DE MÉXICO El dirigente nacional de Morena, Mario Delgado , con motivo del 94 aniversario del Partido Revolucionario Institucional (PRI); aseguró que el tricolor sería expulsado en las próximas elecciones de Coahuila y el Estado de México de este año, afirmando así que su centenario no llegaría a ver la luz. Señalo que los años que han transcurrido desde su fundación han sido de corrupción e indiferencia, así como de abandono, mentiras y decadencia que han afectado sobremanera a México. Celebró que el partido ya haya sido arrojado de varios estados de la República: Se cumplieron 94 años del PRI. Casi diez décadas de corrupción, de indiferencia, de abandono, de mentiras, de decadencia, de traicionar al pueblo. Este año se irán de otras dos entidades más que se resisten. El pueblo es sabio y bien dice: No hay PRI que dure cien años, ni pueblo que los resista. ADÁN AUGUSTO LÓPEZ; EL ABC DEL PLAN B. Adán Augusto López Hernández , titular de la Secretaría de Gobernación, fue el encargado de explicar el “ABC” del llamado “plan B” de la reforma electoral ante las resistencias y falsedades por parte de los opositores al gobierno de la 4T. Adán Augusto López sostuvo que la reforma electoral ha sido objeto de una serie de ataques, de una estrategia, claramente diseñada desde las oposiciones, construida a base de falsedades. El encargado de la política interior del país detalló que el “plan B” reformó cinco leyes, además que agregó una nueva en materia de medios de impugnación. Las leyes que sufrieron cambios son: Ley General de Instituciones y Procedimientos Electorales. Ley General de Partidos Políticos. Ley Orgánica del Poder Judicial de la Federación. Ley General de Responsabilidades Administrativas. Ley General de Comunicación Social. Y se emite una nueva Ley General de Medios de Impugnación que consta de 70 artículos. Por primera vez con la Ley General de Medios de Impugnación se regula ya que haya solamente un organismo que sea el encargado de resolver sobre todas las impugnaciones que se presenten durante el proceso electoral. Ahí no es cierto que se le quiten facultades al Instituto Nacional Electoral o al Tribunal Electoral, por el contrario, desaparecen las facultades que tenían las juntas locales o vocalías locales y se concentran todas en un solo procedimiento sancionador que será regulado por la dirección respectiva del Instituto Nacional Electoral. Básicamente el “plan B” significa el fin a la burocracia dorada del INE, pues se suprimen los privilegios que mantenían los altos mandos de la burocracia del instituto electoral. Sobre los fideicomisos, aseguró que estos se mantenían en la opacidad, pues insistió en que nadie sabía cuál era el capital que se administra en estos, así como tampoco se sabía en qué se gastaban. Adán Augusto explicó que el dinero de esos fideicomisos serán reintegrados al erario público federal. Por otro lado, rechazó que con el plan B se vaya a despedir a más de 8 mil trabajadores, pero aseveró que lo que sí se reducirán es el número de los vocales de las juntas locales y juntas distritales. Afirmó que serán 64 vocales de las juntas locales y mil 200 vocales de las que se llaman las juntas auxiliares, quienes podrían dejar sus puestos. Aclaró que los trabajadores de servicio profesional de carrera serán reubicados, por lo que no perderán su trabajo. Respecto a las versiones de que se pone en riesgo la jornada electoral por temas relacionados con los conteos rápidos y el PREP, el funcionario de la 4T expuso que no es verdad. Recordó que el conteo rápido no lo hace el INE, sino empresas contratadas por el órgano electoral; mientras que el PREP seguirá operando de la misma manera, pero los cómputos distritales iniciarán junto con este. Habrá mayor certeza jurídica para realizar los conteos y muy probablemente en la madrugada del día siguiente de la elección ya los mexicanos conozcamos los resultados distritales oficiales de cualquier elección. Sobre el voto de los mexicanos en el exterior, destacó que se facilita el voto de migrantes pues será vía Internet y podrá hacerse con credencial, matrícula consular o pasaporte, que emite la SRE. Destacó que ahora ya se abre la posibilidad de que sean sancionados quienes obtengan alguna prebenda o quienes, como se hacía antes, como en el caso del Pemexgate, financiaban a candidatos a cambio de obras, de cualquier tipo de contratos una vez que estos hubiesen llegado a los cargos de gobernador, de presidente municipal, todo eso ya forma parte del proceso sancionador. MARCELO EBRARD; CELEBRA ACUERDO DE CONSERVACIÓN DE LOS OCÉANOS El canciller Marcelo Ebrard Casaubon , en la sede de la Organización de las Naciones Unidas (ONU), se congratuló por la negociación exitosa, después de muchos años de esfuerzos de la comunidad internacional, del tratado internacional para la conservación y uso sostenible de la biodiversidad en los océanos. El nuevo tratado será el punto de partida para llevar a cabo las obligaciones de conservación y uso sostenible de la biodiversidad marina en la zona y en alta mar, las cuales constituyen el 95% de los océanos y son fundamentales para la vida en la Tierra. Este acuerdo representa una oportunidad única para lograr una gobernanza global, basada en mecanismos de coordinación y cooperación multilaterales, bajo el principio de patrimonio común de la humanidad. El instrumento BBNJ mantiene vivo el objetivo 30×30, proteger el 30% de los océanos del mundo para 2030, pues proporciona un camino para crear áreas total o altamente protegidas en los océanos del mundo. Esto se complementa con otras medidas de protección y conservación de la alta mar, adicionales a las que se puedan adoptar por organizaciones regionales o a nivel nacional, encaminadas a la conservación de la biodiversidad marina. El canciller Ebrard aseguró que México ha trabajado muy intensamente para esto. El Instrumento BBNJ favorecerá la creación de áreas naturales protegidas, así como el monitoreo y la evaluación de los impactos al medio marino causados por las actividades humanas efectuadas en zonas fuera de la jurisdicción nacional. Se fomentará un reparto justo y equitativo de los beneficios del acceso a los recursos genéticos marinos, respetando los intereses nacionales derivados de la posición de México como Estado costero. La Secretaría de Relaciones Exteriores reconoce la participación de la delegación mexicana en la negociación del Instrumento BBNJ, no solo en el marco de la Conferencia, sino en la construcción de consensos y alianzas en los periodos entre sesiones. Desde el inicio del proceso, México fue cofacilitador, junto con Nueva Zelandia, de la Resolución 72/294 de la Asamblea General de las Naciones Unidas, en la cual se reconoció la necesidad de desarrollar este instrumento, y se convino la instauración de una Conferencia Intergubernamental para hacerlo una realidad. México trabajó en conjunto con el Grupo de Posicionamiento Común de Estados Afines Latinoamericanos (CLAM) y lideró un grupo de Estados con ideas, opiniones e intereses similares, que incluyó talleres intersesionales, fomentando espacios de intercambio y discusión. SENADORA OLGA SANCHEZ; MUJERES POLICÍAS HAN ROTO ESTEREOTIPOS DE GÉNERO, PERO AÚN ENFRENTAN DESIGUALDAD LABORAL La presidenta de la Comisión de Justicia del Senado de la República, Olga Sánchez Cordero , durante el foro “Creadoras de Paz: Perspectivas de Género en Instituciones Policiales”, realizado en el salón de la Comisión Permanente del Senado, afirmó que en las actividades policiales desafortunadamente no se han tenido condiciones de igualdad para demostrar todo el potencial que las mujeres pueden aportar a esta función. Esto debido a que el honor de proteger y servir a la sociedad, como policías, históricamente había sido reservado únicamente para los hombres, y no fue hasta el Siglo XX cuando pudimos ver a las primeras mujeres tener el honor de trabajar para brindar tranquilidad y confianza a la ciudanía ante la delincuencia. Sánchez Cordero en vísperas del “Día Internacional de la Mujer”, reconoció que aún falta mucho camino por recorrer, si consideramos que las mujeres que tienen una activa y destacada participación en las fuerzas policiales de la Federación, los estados y municipios hasta hace un par de años reportaban piropos inofensivos, insinuaciones y solicitudes sexuales, insultos, manoseos o tocamientos y todo tipo de violencias dentro y fuera de algunas instituciones locales. La senadora dijo que, en los últimos 43 años, las mujeres hemos abierto esos espacios antes vedados por la cultura patriarcal, y hoy podemos ver a mujeres en el mando de la Secretaría de Seguridad y Protección Ciudadana, con Rosa Icela Rodríguez , y del Secretariado Ejecutivo del Sistema Nacional de Seguridad Pública, con Clara Luz Flores . Asistieron al foro la secretaria de la Mesa Directiva del Senado, Verónica Noemí Camino Farjat , y Sulma Eunice Campos Mata , directora de la Unidad Técnica para la Igualdad de Género del Senado; así como las expertas en los temas de seguridad, Alma Lilia Campos Espíndola y Denisse Arvide . SENADORA MARGARITA VALDEZ; COMISIÓN DE SALUD AVALA REFORMA PARA PROMOVER USO DE PRUEBAS RÁPIDAS PARA DETECCIÓN DEL VIH/SIDA La senadora Margarita Valdez Martínez , presidenta de la Comisión de Salud, informo que para reforzar las acciones de prevención del VIH/SIDA, los integrantes de la Comisión de Salud, aprobaron un dictamen para promover el uso de pruebas rápidas de antígenos y anticuerpos como métodos de detección de enfermedades, que priorice a la población de mayor vulnerabilidad y riesgo de contraer ésta y otras enfermedades de transmisión sexual. El proyecto detalla que la infección por el VIH puede detectarse mediante pruebas de diagnóstico rápido que ofrecen resultados el mismo día, lo cual facilita un tratamiento y atención oportuna. Se dispone de pruebas de detecciones simples y eficaces para los adolescentes y adultos, pero no para los bebés nacidos de madres VIH-positivas. Las pruebas rápidas de antígenos no bastan para detectar la infección en los niños menores de 18 meses, por lo que se deben realizar pruebas virológicas en el momento del nacimiento o a las seis semanas. En los resolutivos del dictamen se informa que en materia de eliminación de la transmisión vertical del VIH, México disminuyó los casos nuevos diagnosticados en 38.2 por ciento, al pasar de 131 a 81 de 2013 a 2018. Sin embargo, no se cumplió con la meta programada en la pasada administración, debido principalmente a la falta de acceso a la detección del virus en mujeres embarazadas, que en 2015 fue de 58 por ciento. Si bien el uso correcto del condón ha probado ser el mecanismo más ampliamente utilizado, para reducir el riesgo de contagio de infecciones de transmisión sexual, lo que incluye al VIH y la hepatitis, además de evitar embarazos, su efectividad no es del 100 por ciento, de modo que es recomendable complementarlo con otros métodos de prevención y diagnóstico oportuno. El proyecto detalla que en México, del 1 de septiembre de 2019 al 30 de junio de 2020, en la Secretaría de Salud se aplicaron un millón 473 mil 178 pruebas para la detección del VIH, de las cuales, sólo 300 mil 720 fueron a mujeres embarazadas. MINISTRA NORMA PIÑA; LLAMA A JUZGADORES A SER GUARDIANES DE LA CONSTITUCIÓN La ministra Norma Lucía Piña Hernández , presidenta del Consejo de la Judicatura Federal (CJF) y de la Suprema Corte de Justicia de la Nación (SCJN), durante el encuentro con juezas y jueces y magistradas y magistrados, llamó a los juzgadores a ser guardianes de la Constitución. Declaró que esa es nuestra fuerza, esa es nuestra dignidad y, al mismo tiempo, es nuestra responsabilidad. Recordó que en su actuar independiente y responsable radica la dignidad del Poder Judicial de la Federación (PJF). Piña Hernández reconoció que no son tiempos fáciles en ninguna parte del mundo, pero si actuamos con responsabilidad, con prudencia de juzgadores, sin que se confunda con cobardía, todos saldremos adelante. Destacó que como juzgadores, se tiene una doble responsabilidad: Primero con la familia, porque lo que hacemos como figuras públicas repercute en ella; y la segunda con el PJF, porque al estar en el foco de atención, lo que haga uno repercute en todos, de ahí que los exhortó actuar en unidad. Ante los 131 asistentes, la presidenta de este cuerpo colegiado reconoció la vocación y entrega de las personas juzgadoras y los servidores públicos del Poder Judicial de la Federación. A su vez, los juzgadores destacaron la importancia de entablar un diálogo directo con las autoridades del Consejo de la Judicatura Federal, ya que les permite exponer sus necesidades, así como los desafíos que enfrentan cotidianamente. IBD; 7 DE CADA 10 PERSONAS CONSIDERA QUE LA LEY SE RESPETA POCO O NADA EN MÉXICO El Instituto Belisario Domínguez IBD, publica los resultados de la Encuesta Nacional de Cultura de la Legalidad. El 70% de las personas manifiesta poca o nula confianza en presentar demandas a través del Internet. El 49% de las personas considera que la ley se respeta poco en nuestro país y el 21% cree que nada, esto de acuerdo con la Encuesta Nacional de Cultura de la Legalidad elaborada por la Dirección General de Análisis Legislativo del Instituto Belisario Domínguez. La medición del IBD señala que la población asocia de manera predominante la palabra justicia con cumplir la ley (63%), muy por arriba de la palabra igualdad que ocupó el segundo lugar (14%). El 56% afirma estar de acuerdo en que se deben respetar las leyes siempre, incluso aquellas que parezcan injustas. Por otro lado, destaca que el 53% de la población encuestada respondió que la Constitución cumple con las necesidades de nuestro país, aunque deben hacerse algunos cambios. En este levantamiento disminuyó de manera significativa las personas encuestadas que señalan la necesidad de redactar una nueva Carta Magna (20%, mientras que en el 2019 fue 38%). El aspecto más mencionado por las personas para mejorar la justicia es tener policías eficientes y capacitados en derechos humanos (34%), seguido de contar con un Ministerio Público confiable, transparente y eficaz (29%). Otro dato relevante medido por la encuesta se relaciona con la justicia digital. Sobresale el hecho de que 70% de la población dice tener poca o nada de confianza en presentar una demanda a través de Internet; esto debido fundamentalmente a que creen que serán ignoradas. LA DIPUTADA FEDERAL YADIRA MARCOS; EL OBJETIVO DEL PLAN B, ES DISMINUIR LOS GASTOS EXCESIVOS DEL INE Y EVITAR LA DUPLICIDAD DE FUNCIONES Las Diputadas Yadira Marcos, Olegaria Carrazco, Nabetse Arellano y Fernando García , mencionaron que se aprobaron los artículos avalados por ambas Cámaras del decreto que reforma, adicionan y deroga diversas disposiciones de la Ley General de Instituciones y Procedimientos Electorales, la Ley General de Partidos Políticos, la Ley Orgánica del Poder Judicial de la Federación y se expide la Ley General de los Medios de Impugnación. La reforma crea el Sistema Nacional Electoral, conformado por el Instituto Nacional Electoral, como autoridad rectora y los Organismos Públicos Locales (OPL), como autoridades electorales, con ello se unifican áreas a fin de eliminar duplicidad de funciones, para mejorar su funcionamiento. Con la creación del SNE, se genera un cambio en la estructura de los órganos centrales, locales y distritales del INE. Se unifican áreas a fin de eliminar duplicidad de funciones, para mejorar su funcionamiento. La Dirección Ejecutiva de Organización Electoral y la Dirección Ejecutiva de Capacitación y Educación Cívica se fusionan para formar la Dirección Ejecutiva de Organización y Capacitación Electoral. La Comisión de Partidos Políticos absorbe al Comité de Radio y Televisión, y la Comisión de Quejas y Denuncias pasa a la Comisión Jurídica y de lo Contencioso Electoral, integrada por 7 consejeras o consejeros electorales. Las funciones de la Unidad Técnica de Vinculación con los Organismos Públicos Locales pasan a ser parte de la Dirección Ejecutiva de Organización y Capacitación Electoral. La Unidad Técnica de Fiscalización se convierte en la Dirección Ejecutiva de Fiscalización, adscrita al Consejo General. Las Comisiones Permanentes del Consejo General pasan de 8 a 7, las cuales deben renovarse en la totalidad de integrantes de forma trianual, para mantener su imparcialidad e independencia. Se crea una Comisión Temporal de presupuesto que rinda cuentas sobre la integración del anteproyecto de presupuesto del Instituto. La reforma pone límites a las facultades discrecionales que ha adquirido el INE en materia normativa para que el Instituto emita únicamente: reglas, lineamientos, criterios y formatos en materia de resultados preliminares; encuestas o sondeos de opinión; observación electoral; conteos rápidos; impresión de documentos y producción de materiales electorales. El INE contará con 32 Órganos locales, uno por cada entidad federativa; y hasta con 300 órganos auxiliares, una por distrito electoral uninominal, los cuales pueden ser permanentes o temporales. Mencionaron que también se suprimen los fideicomisos y los privilegios como el seguro de gastos médicos mayores o el seguro de separación individualizada. El Consejo General debe velar por el principio de austeridad, además de los de certeza, legalidad, independencia, imparcialidad, máxima publicidad, objetividad y paridad de género. Se establece la estructura máxima de los Organismos Públicos Locales, para evitar OPL’s con estructuras gigantes y duplicidad de funciones; asimismo establece que éstos no contarán con estructuras municipales o distritales permanentes. La nueva legislación, ordena la suspensión de la entrega de bienes o beneficios directos, indirectos, mediatos o inmediatos, en especie o en efectivo, a través de cualquier sistema, que realicen candidatos, partidos políticos o cualquier persona para promover el voto de una candidatura determinada. De manera especial, la reforma garantiza la paridad de género mediante la obligación de los partidos políticos y coaliciones para postular en paridad de 50% a mujeres y hombres. Serán los partidos quienes determinen los mecanismos y formas para garantizar la paridad de género en los cargos de elección popular. Se estableció el derecho a votar de las personas que se encuentran en prisión preventiva oficiosa y las medidas correspondientes para garantizar que se ejerza esa facultad ciudadana, salvaguardando su derecho al voto y a la presunción de inocencia. Se reserva como facultad exclusiva del Consejo General emitir las características de la documentación y materiales electorales para los procesos federales y locales, enfatizando que el inicio del proceso electoral ordinario cambia al pasar de la primera semana de septiembre a la tercera semana de noviembre del año anterior a la elección. MARKO CORTÉS; CRÍTICA ESTRATEGIA PARA ERRADICAR VIOLENCIA VS LAS MUJERES Marko Cortés , dirigente nacional del PAN, acusó que la violencia en contra de las mujeres sigue en aumento, mientras el gobierno del presidente Andrés Manuel López Obrador no hace lo suficiente para erradicar las agresiones que se cometen día con día en contra de las mujeres; además dijo de que la aplicación de la justicia y la atención a víctimas continúa siendo lenta e ineficiente. Basado en prejuicios machistas y trasnochados, el gobierno de Morena se volvió enemigo de las causas de las mujeres, no solo les dio la espalda, sino que las agrede verbalmente, para influirles miedo y acallar sus protestas, como ha ocurrido en cada celebración del Día Internacional de la Mujer. El líder panista criticó que el gobierno ha definido la lucha de las mujeres como un movimiento conservador producto del neoliberalismo, con lo que señaló se ataca a los movimientos feministas porque los considera enemigos del régimen. Afirmó que todos los indicadores de violencia contra las mujeres rompieron récord en el gobierno de Morena, al tiempo que citó datos del INEGI, en el que señala que el 70% de las mujeres mayores de 15 años ha sufrido al menos algún tipo de agresión durante su vida. Las cifras oficiales revelan una ola de violencia contra las mujeres. Marko Cortés destacó que es el momento de recuperar programas tan importantes como las estancias infantiles, los refugios para atender a mujeres víctimas de violencia, así como centros de atención legal y psicológica. Garantizó que en Acción Nacional apelan por la igualdad de las mujeres en todos los ámbitos, desde la independencia económica, igualdad de salarios, más mujeres en puestos directivos, en cargos públicos, en el Poder Legislativo, Judicial, gubernaturas y Presidencia de la República, más mujeres como líderes empresariales, y al mismo tiempo con mayores oportunidades para que continúen sus estudios, quienes por cualquier motivo los hayan suspendido. Si en verdad queremos un México libre de violencia contra las mujeres, es fundamental poner en marcha políticas públicas que beneficien el mejor desarrollo de las mujeres en todas sus etapas, impulsar mayor equidad en el ambiente económico y laboral, así como desterrar la impunidad. DIPUTADA NORMA ACEVES; CREACIÓN DE FONDOS PARA PRÓTESIS Y ELIMINACIÓN DE IVA A EQUIPO PARA PERSONAS CON DISCAPACIDAD La diputada Norma Angélica Aceves García, para lograr la inclusión de las personas con discapacidad, busca la creación de los fondos nacionales de órtesis, prótesis y ayudas técnicas, así como de accesibilidad universal a estas herramientas y la extinción del pago del impuesto a todas aquellas ayudas funcionales y técnicas que requiera este sector. La integrante del Grupo Parlamentario del PRI propuso que dichos fondos sean considerados en el Presupuesto de Egresos de la Federación para el ejercicio fiscal inmediato a su publicación. Señaló, al apostar por esta estrategia, se logrará que las personas con discapacidad puedan ser productivas y poner en marcha todas sus capacidades y talentos, con lo que el sector laboral privado y público será gratamente beneficiado y no se requerirán de más subsidios o apoyos asistenciales, ya que las personas con discapacidad podrán solventar sus gastos y necesidades. Este planteamiento, también resultará benéfico para las finanzas públicas y permitirá, a mediano plazo, que el dinero destinado a la política pública en materia de discapacidad se enfoque totalmente a estrategias de empoderamiento e inclusión. Detalló que de acuerdo con el Censo de Población y Vivienda 2020 del Instituto Nacional de Estadística y Geografía (Inegi) hay un total de 6 millones 179 mil 890 personas con discapacidad, más 13 millones 934 mil 448 personas que dijeron tener alguna limitación para realizar actividades de la vida diaria. Por lo que consideró que la actual política nacional ha sido insuficiente en esta materia y señaló que es necesario que desde el ordenamiento general en materia de discapacidad se establezca la creación de dos fondos, uno destinado a la movilidad y otro a la accesibilidad de las personas con discapacidad. Propuso una iniciativa que adiciona una fracción XV Bis al artículo 15 de la Ley del Impuesto al Valor Agregado (IVA), a fin de exentar del pago del impuesto todas aquellas ayudas funcionales y técnicas que requieran las personas con discapacidad para su inclusión social. La legisladora priista expuso que de acuerdo con el Centro de Estudios de las Finanzas Públicas (CEFP), el IVA es un impuesto indirecto que grava el consumo de los contribuyentes y no repercute directamente sobre los ingresos; es decir, es un costo que se traslada a los consumidores, a través de los precios de los productos, bienes y servicios; además, es regresivo, ya que no se relaciona con las circunstancias personales del contribuyente. Explicó que busca establecer que no se pagará IVA por la enajenación o arrendamiento de prótesis, órtesis, ayudas funcionales, entendidas como aquellos dispositivos destinados a sustituir o complementar una función, un órgano o un tejido del cuerpo humano, o de ayudas técnicas, que son tecnológicos y materiales que permiten habilitar, rehabilitar o compensar una o más limitaciones funcionales, motrices, sensoriales o intelectuales de las personas con discapacidad. ALEJANDRO MORENO; TODO EL RESPALDO DEL PRI A NORMA PIÑA El Presidente del Comité Ejecutivo Nacional (CEN) del Partido Revolucionario Institucional (PRI), Alejandro “Alito” Moreno , en el marco de la conmemoración del 94 Aniversario del PRI, expresó toda la solidaridad del priismo nacional con la Ministra Presidenta de la Suprema Corte de Justicia de la Nación (SCJN), Norma Piña Hernández , ante la campaña de odio, difamación e injurias que se ha desatado en su contra desde el poder. El líder nacional del partido expresó todo el respeto y el respaldo absoluto del tricolor a la labor que realiza la Suprema Corte. Estamos seguros que habrán de salvaguardar el mayor legado de los mexicanos, que es nuestra Constitución. Quiero decirle con firmeza y con mucha claridad, y que se escuche claro, al Poder Ejecutivo: el Legislativo y Judicial somos un poder, no somos empleados del poder. Aquí estamos, para generar pesos y contrapesos. Alejandro Moreno , además de condenar las cobardes amenazas a la integridad física de la Ministra Presidenta de la Suprema Corte, en días pasados hizo un enérgico llamado a las autoridades para que se investiguen esas reprobables conductas, que promueven un clima de incertidumbre. JOE BIDEN; SANO Y VIGOROSO DESPUES DE QUE LE FUE RETIRADO UN CARCINOMA DEL PECHO El presidente Joe Biden fue intervenido el mes pasado por una lesión que le fue extirpada del pecho, la cual era un carcinoma de célula basal, una forma común de cáncer de piel. El doctor Kevin O’Connor , médico de la Casa Blanca que ha atendido a Joe Biden desde hace tiempo, indicó que todos los tejidos cancerosos fueron retirados exitosamente. O’Connor señaló que Biden , de 80 años, está sano, vigoroso y en forma para asumir sus responsabilidades en la Casa Blanca, en un momento en que se prevé que próximamente anuncie una candidatura a la reelección en 2024. O’Connor señaló que el sitio del pecho de Biden donde le fue retirado el carcinoma ha sanado bien, y el presidente continuará con revisiones de piel regularmente dentro de su plan de salud de rutina. Las células basales están entre las formas más comunes de cáncer y cuyo tratamiento es más fácil, especialmente cuando se les detecta en una etapa temprana. O’Connor dijo que no tienden a propagarse como otros cánceres, pero podrían crecer, y por ello se les extirpa. De acuerdo con el Instituto Nacional del Cáncer, el carcinoma baso celular es una célula pequeña, redonda ubicada en la parte más baja de la epidermis, que es la capa más extrema de la piel y es la forma más curable de cáncer de piel. Este tipo de lesión se considera altamente tratable, especialmente cuando se detecta a tiempo ya que es un cáncer de crecimiento lento que suele limitarse a la superficie de la piel y los médicos, como sucedió con Biden , casi siempre pueden extirparlo con una incisión un poco profunda y en raras ocasiones causan complicaciones graves o ponen en peligro la vida. El 11 de enero el portavoz de la Casa Blanca Karine Jean-Pierre confirmó que la primera dama Jill Biden fue sometida a una cirugía menor para extirpar una lesión en la piel cerca del ojo derecho en el Centro Médico Nacional Walter Reed. Señaló que el procedimiento, comúnmente conocido como cirugía Mohs, se realizó a través de una anestesia local. O’Connor por su parte mencionó que habían detectado una pequeña lesión encima del ojo derecho de la primera dama y por precaución se había tomado la decisión de extirparla. DINA BOLUARTE; COMPARECERÁ POR LA MUERTE DE 70 PERSONAS EN PROTESTAS La presidenta de Perú, Dina Boluarte , acudirá en forma presencial a la Fiscalía para rendir su testimonio en la investigación por genocidio abierta en su contra, a raíz de los 70 decesos en las manifestaciones de protesta hasta la fecha. La cita cursada a Boluarte por la fiscal de la Nación, Patricia Benavides , es para el día de mañana martes 7 de marzo en forma presencial, a diferencia de la solicitud de la Presidencia de la República que planteó hacerlo en forma virtual. La decisión de la doctora Boluarte de participar en la diligencia de la Fiscalía siempre ha sido positiva y con toda la voluntad de querer coadyuvar en la averiguación de la verdad y de la investigación en concreto. El tema es que si la Fiscalía indica que la diligencia va a ser de manera presencial, pues irá de manera presencial. La abogada de Dina Boluarte, aseguró que nunca ha habido intención de querer, entorpecer u obstaculizar el trabajo que realiza la Fiscalía de la Nación. En ese sentido, dijo que sostuvo una reunión de coordinación con la mandataria sobre el tema de su notificación ante la Fiscalía. Boluarte respondió que estaría asistiendo con sumo agrado, cuando la Fiscalía la notifique de la diligencia. La Fiscalía de la Nación abrió una investigación preliminar contra la jefa de Estado en enero pasado por los presuntos delitos de genocidio, homicidio calificado y lesiones graves debido a los decesos y heridos por las protestas antigubernamentales desde diciembre último en varias regiones del país. Las protestas sociales estallaron en Perú tras el fallido golpe de Estado del ex presidente Pedro Castillo el 7 de diciembre de 2022 y continuaron desde enero y los meses siguientes con una serie de movilizaciones y enfrentamientos con las fuerzas del orden en demanda de la renuncia de Boluarte , el cierre del Congreso, el adelanto de las elecciones generales y la convocatoria a una asamblea constituyente. PERU; MINISTERIO DE RELACIONES EXTERIORES NOMBRÓ A NUEVO CÓNSUL EN LA CIUDAD DE MÉXICO El diplomático Carlos Jesús Rossi Covarrubias , fue nombrado por el ministerio de Relaciones Exteriores de Perú como cónsul general en la Ciudad de México, esto tras el término de funciones de Milagros Miranda y posterior al reciente retiro del embajador Manuel Gerardo Talavera Espinar . Según la resolución del ministerio encabezado por Ana Cecilia Gervasi , la fecha en la que Rossi Covarrubias asumirá sus funciones será fijada en una resolución viceministerial. El nombramiento del nuevo cónsul en la Ciudad de México se produce un día después de que Gervasi acudió al Congreso para explicar que el cambio de funcionarios es por una rotación regular, y días después de que el país dispuso el retiro de su embajador por las inaceptables declaraciones de López Obrador, respecto al Gobierno de Boluarte . Sobre las relaciones con México, la ministra explicó que desde el Gobierno se dispuso el retiro del embajador peruano debido a las reiteradas e inaceptables declaraciones del presidente de ese país, Andrés Manuel López Obrador , dejando las relaciones diplomáticas a nivel de encargado de negocios. El 24 de febrero Boluarte anunció esta medida y rechazó enérgicamente las declaraciones de López Obrador sobre asuntos internos de Perú e inaceptables cuestionamientos que, de manera reiterada, el presidente de México ha formulado sobre el origen constitucional y democrático de su Gobierno. MARIANNE WILLIAMSON; VA POR CANDIDATURA PRESIDENCIAL DE EU La autora de libros de autoayuda Marianne Williamson hizo oficial su candidatura a la nominación demócrata a la Presidencia de Estados Unidos y su intención de competir con Joe Biden , quien no confirmó todavía si buscará ser reelegido. A partir de hoy soy candidata para el cargo de Presidenta de los Estados Unidos y solicito sus donaciones, su voluntariado, su ayuda, porque es nuestro turno. Con su anuncio, Williamson se convierte en la primera política progresista en oficializar sus intenciones de competir por la Presidencia de Estados Unidos, pues Joe Biden no anunció de manera oficial su candidatura. Williamson se suma a la lista de precandidatos demócratas a la presidencia, mientras que por parte republicana ya son 2, incluyendo al ex mandatario Donald Trump y a la ex embajadora de EE.UU. ante la ONU y ex gobernadora de Carolina del Sur, Nikki Haley . Facebook Héctor Muñoz TWITTER @JHECTORMUNOZ Instagram: infohectormunoz Related Videos TODAS LAS NOTICIAS Tendencias Ampara SCJN a jubilada por reducción de pensión en Jalisco ¡Zaz! Maestra de Kínder exhibe los mensajes que le mandan los papás de sus alumnos \"Se nos partió el alma\": Payaso es contratado para dar show en velorio de un niño El acuerdo secreto de Ebrard y Monreal ¿Quieres saber qué foto captó la NASA el día de tu cumpleaños? Aquí te lo mostramos Amenazan a alumnas de UVM Tlalpan Amenazan a alumnas de UVM Tlalpan Los republicanos reposicionan a López Obrador Enfrentan en Chimalhuacán la peor crisis de agua en 20 años VIDEO: ¿Lalo Mora lo vuelve a hacer? Lo captan \"perreando\" a fan Facebook Page Twitter Username Instagram Linkedin YouTube Ediciones • PUEBLA • QUINTANA ROO • YUCATÁN • CAMPECHE Publicidad Contacto Directorio Aviso de privacidad Código de prácticas Manual de redes sociales © 2023 Información Integral 24/7, S.A.P.I. de C.V. Proudly powered by Newspack by Automattic'"
      ]
     },
     "execution_count": 12,
     "metadata": {},
     "output_type": "execute_result"
    }
   ],
   "source": [
    "request = make_request(urls[0])\n",
    "text = extract_text(request)\n",
    "text"
   ]
  }
 ],
 "metadata": {
  "kernelspec": {
   "display_name": "customized_headlines-FvG73Ws_",
   "language": "python",
   "name": "python3"
  },
  "language_info": {
   "codemirror_mode": {
    "name": "ipython",
    "version": 3
   },
   "file_extension": ".py",
   "mimetype": "text/x-python",
   "name": "python",
   "nbconvert_exporter": "python",
   "pygments_lexer": "ipython3",
   "version": "3.8.10"
  },
  "orig_nbformat": 4,
  "vscode": {
   "interpreter": {
    "hash": "8b725b10da2d3edb26298de5c64855d2d8517f0dee0cc115a411a016ea5506c4"
   }
  }
 },
 "nbformat": 4,
 "nbformat_minor": 2
}
