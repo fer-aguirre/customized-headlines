{
 "cells": [
  {
   "attachments": {},
   "cell_type": "markdown",
   "metadata": {},
   "source": [
    "### Imports"
   ]
  },
  {
   "cell_type": "code",
   "execution_count": 1,
   "metadata": {},
   "outputs": [],
   "source": [
    "import openai\n",
    "import configparser"
   ]
  },
  {
   "attachments": {},
   "cell_type": "markdown",
   "metadata": {},
   "source": [
    "### Set up OpenAI API key"
   ]
  },
  {
   "cell_type": "code",
   "execution_count": 2,
   "metadata": {},
   "outputs": [],
   "source": [
    "# Create a parser object and disable interpolation\n",
    "parser = configparser.ConfigParser(interpolation=None)\n",
    "\n",
    "# Read data from 'config.ini' file\n",
    "parser.read(\"../config.ini\")\n",
    "\n",
    "# Access sections from the configuration file\n",
    "parser.sections()\n",
    "\n",
    "# Get 'key' from openai section\n",
    "api_key = parser.get('openai', 'key')\n",
    "\n",
    "# Set up OpenAI API key\n",
    "openai.api_key = api_key"
   ]
  },
  {
   "attachments": {},
   "cell_type": "markdown",
   "metadata": {},
   "source": [
    "### Generate title"
   ]
  },
  {
   "cell_type": "code",
   "execution_count": 14,
   "metadata": {},
   "outputs": [],
   "source": [
    "genero = \"Mujer\"\n",
    "edad = \"40-49\"\n",
    "pais = \"México\"\n",
    "topicos = \"Deportes, Tecnología\"\n",
    "texto = \"Hace unos dias se celebro en Turin la centesima cuarta edicion del Giro de Italia, la ciudad piamontesa fue la primera de las 21 etapas que componen la competencia que se lleva a cabo en el mes de mayo desde 1909 en su version masculina. El sabado fui testigo de la tercera partida mas veloz en la historia de la competencia, gano en casa la “maglia rosa” el piamontes Filippo Ganna, con una media de 58.748 km/h con la que corrio los 8,6 kilometros del circuito que partia de plaza Castello. Fue una suerte que despues de una timida y nubosa primavera, el sabado pudieramos disfrutar de un dia soleado que invitaba a la gente a participar en un evento tanto esperado por la comunidad de ciclistas. Admito que durante los anos que vivi en la CDMX, la bicicleta no formo parte de mis principales medios de transporte, es mas, tengo en alta estima a quienes a pesar de todos los riesgos que puede representar la bici en una ciudad como la nuestra, la usan cotidianamente. Tenia tanto miedo de usarla, que aunque pague la suscripcion al servicio de sharing de la ciudad, lo use apenas un par de veces… la conocia desde siempre, la usaban tios, mi padre, mi hermano, ex parejas, incluso cuando mi marido empezo a aficionarse pense que se trataba de algun tipo de maldicion. Con la pandemia, muchos buscamos medios alternativos al transporte publico para poder movernos. Empece a caminar mas, pero mi naturaleza retardataria pronto me mostro las desventajas de este sistema. Pense en la cuestion no resuelta de la bici y busque una que se acomodara a mis necesidades, despues de batallar con la bicicleta de montana y su estructura que no me resultaba del todo amigable, encontre una “bici de ciudad” que me hizo sentir por primera vez duena de la calle. Desde entonces solo podia contar las ventajas de usar la bici como principal medio de transporte. No extrano que en el metro o el autobus el cubrebocas me empane los lentes o buscar estacionamiento cuando vamos en auto. Durante este periodo particular, donde socializar es tan dificil, la bicicleta se ha convertido tambien en un pretexto para hacer ejercicio y encontrarte ciclistas buena onda en el camino. Despues de la salida de los primeros ciclistas del Giro, junto con mi pareja aproveche para pedalear en los espacios verdes de la ciudad. Con el extasis de la competencia, nos encontramos varios grupos de ciclistas amateur en uniformes y bicis profesionales, otros con bicis rescatadas del fierro viejo, triciclos, monopatines, … el movimiento era la orden del dia. Cerca del final de la competencia, regresabamos a casa al lado del rio Po sobre un carril para ciclistas. Vimos que un nino de unos seis anos venia hacia nosotros en sentido contrario a toda velocidad y como pudimos, frenamos, pero el pequeno derrapo y cayo. No se como se lleno de hojarasca y tierra hasta la espalda, escuche que su padre venia gritando a lo lejos en bicicleta. Cuando llego, se acerco para gritarle, que debia tener mas cuidado, que apenas habian salido de casa. Ni siquiera tomaba aire. El nino, tirado en el piso. Estaba entre los gritos del don que me ponian nerviosa y las ganas de levantar al nino, decirle que no era su culpa, que cuando uno rueda, esas cosas pasan. Levante la pequena bici, se la di al padre, que solo hizo pausa en el regano para darme las gracias, despues levante con mucho cuidado al nino, mientras le preguntaba si estaba bien, lo tome un poco apenada, pense que no debia tocarlo una extrana, pero las palabras de su padre parecian pegarlo al suelo. Busque su mirada y con sorpresa vi que estaba enojado, ni una lagrima, afortunadamente estaba bien. Seguimos nuestro camino, coincidimos con el final de la etapa de ese dia del Giro, y vimos varios de los autos que cargan las bicis y camaras que siguen a los ciclistas, como sorpresa extra del dia, cruzamos camino con el numero 168 de la competencia sobre avenida Reina Margarita y le dije a Tono: “siguelo”, mientras yo me quedaba inevitablemente atras. Despues de una llanta ponchada, llegamos por fin a casa. Esa noche despues de la cena segui pensando en la mirada de enojo del nino. Comprendi que el enojo es una emocion que (a muchos de nosotros) nos ensenan los adultos para lidiar con nuestras emociones complicadas, vergonzosas y primitivas. Desee que el pequeno pudiera algun dia vivir sus emociones sin filtros ni estereotipos, llorar si hace falta, sentir miedo, verguenza, dejar de ser el espejo de los adultos que nos rodearon en los anos tiernos, sentirnos, para no destruirnos. Sentir la misma libertad y agilidad que me tomo tanto tiempo experimentar sin miedo a caerme, porque cuando uno rueda, esas cosas pasan. *Egresada de la Facultad de Filosofia y Letras de la UNAM\""
   ]
  },
  {
   "cell_type": "code",
   "execution_count": 15,
   "metadata": {},
   "outputs": [
    {
     "name": "stdout",
     "output_type": "stream",
     "text": [
      "Título: Filippo Ganna vence la 104° edición del Giro de Italia en Turín\n"
     ]
    }
   ],
   "source": [
    "response = openai.Completion.create(\n",
    "  model=\"text-davinci-003\",\n",
    "  prompt=f\"\"\"\n",
    "  Considera un usuario lector que se identifica como {genero} en un rango de edad de {edad} años, que reside en {pais} y le interesan {topicos}. \n",
    "  Basado en estos datos, tu objetivo es generar un título de noticias breve y conciso que resulte atractivo para ese usuario con el contenido del siguiente texto. \n",
    "  No añadas información del usuario en el título.\n",
    "\n",
    "  Input:{texto}\n",
    "\n",
    "  Output:\"\"\",\n",
    "    temperature=0.8,\n",
    "    max_tokens=50,\n",
    "    top_p=1,\n",
    "    frequency_penalty=0,\n",
    "    presence_penalty=0,\n",
    "    stop=[\"\\n\"]\n",
    ")\n",
    "\n",
    "for match in response['choices']:\n",
    "    print(f\"Título: {match['text']}\")"
   ]
  }
 ],
 "metadata": {
  "kernelspec": {
   "display_name": "customized_headlines-FvG73Ws_",
   "language": "python",
   "name": "python3"
  },
  "language_info": {
   "codemirror_mode": {
    "name": "ipython",
    "version": 3
   },
   "file_extension": ".py",
   "mimetype": "text/x-python",
   "name": "python",
   "nbconvert_exporter": "python",
   "pygments_lexer": "ipython3",
   "version": "3.8.10"
  },
  "orig_nbformat": 4
 },
 "nbformat": 4,
 "nbformat_minor": 2
}
