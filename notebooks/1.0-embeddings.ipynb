{
 "cells": [
  {
   "attachments": {},
   "cell_type": "markdown",
   "metadata": {},
   "source": [
    "### Imports"
   ]
  },
  {
   "cell_type": "code",
   "execution_count": 9,
   "metadata": {},
   "outputs": [],
   "source": [
    "import torch\n",
    "import pandas as pd\n",
    "from nltk import word_tokenize\n",
    "from datasets import Dataset\n",
    "from transformers import AutoTokenizer\n",
    "from sentence_transformers import SentenceTransformer\n",
    "from sentence_transformers.util import semantic_search\n",
    "import customized_headlines.data.load as load"
   ]
  },
  {
   "attachments": {},
   "cell_type": "markdown",
   "metadata": {},
   "source": [
    "### Load model [`gtr-t5-large`](https://huggingface.co/sentence-transformers/gtr-t5-large) form Hugging Face"
   ]
  },
  {
   "cell_type": "code",
   "execution_count": 2,
   "metadata": {},
   "outputs": [],
   "source": [
    "# Load model\n",
    "model = SentenceTransformer(\"sentence-transformers/gtr-t5-large\")"
   ]
  },
  {
   "attachments": {},
   "cell_type": "markdown",
   "metadata": {},
   "source": [
    "### Load data"
   ]
  },
  {
   "cell_type": "code",
   "execution_count": 6,
   "metadata": {},
   "outputs": [],
   "source": [
    "news = load.news\n",
    "data_raw = load.data_raw\n",
    "data_processed = load.data_processed\n",
    "\n",
    "# Get the csv files from the path provided\n",
    "files = load.get_csv_dir(data_raw)"
   ]
  },
  {
   "attachments": {},
   "cell_type": "markdown",
   "metadata": {},
   "source": [
    "### Read data"
   ]
  },
  {
   "cell_type": "code",
   "execution_count": 7,
   "metadata": {},
   "outputs": [
    {
     "data": {
      "text/html": [
       "<div>\n",
       "<style scoped>\n",
       "    .dataframe tbody tr th:only-of-type {\n",
       "        vertical-align: middle;\n",
       "    }\n",
       "\n",
       "    .dataframe tbody tr th {\n",
       "        vertical-align: top;\n",
       "    }\n",
       "\n",
       "    .dataframe thead th {\n",
       "        text-align: right;\n",
       "    }\n",
       "</style>\n",
       "<table border=\"1\" class=\"dataframe\">\n",
       "  <thead>\n",
       "    <tr style=\"text-align: right;\">\n",
       "      <th></th>\n",
       "      <th>archived_url</th>\n",
       "      <th>article_url</th>\n",
       "      <th>id</th>\n",
       "      <th>language</th>\n",
       "      <th>media_name</th>\n",
       "      <th>media_url</th>\n",
       "      <th>publish_date</th>\n",
       "      <th>title</th>\n",
       "      <th>url</th>\n",
       "      <th>category</th>\n",
       "      <th>text</th>\n",
       "      <th>text_cleanned</th>\n",
       "    </tr>\n",
       "  </thead>\n",
       "  <tbody>\n",
       "    <tr>\n",
       "      <th>0</th>\n",
       "      <td>https://web.archive.org/web/20230307062430/htt...</td>\n",
       "      <td>https://wayback-api.archive.org/colsearch/v1/m...</td>\n",
       "      <td>20230307062430</td>\n",
       "      <td>es</td>\n",
       "      <td>24-horas.mx</td>\n",
       "      <td>http://24-horas.mx</td>\n",
       "      <td>2023-03-06 00:00:00</td>\n",
       "      <td>AMLO; apoya a Samuel García ante conflicto con...</td>\n",
       "      <td>https://www.24-horas.mx/2023/03/06/amlo-apoya-...</td>\n",
       "      <td>negocios</td>\n",
       "      <td>AMLO; apoya a Samuel García ante conflicto con...</td>\n",
       "      <td>AMLO; apoya a Samuel García ante conflicto con...</td>\n",
       "    </tr>\n",
       "  </tbody>\n",
       "</table>\n",
       "</div>"
      ],
      "text/plain": [
       "                                        archived_url  \\\n",
       "0  https://web.archive.org/web/20230307062430/htt...   \n",
       "\n",
       "                                         article_url              id language  \\\n",
       "0  https://wayback-api.archive.org/colsearch/v1/m...  20230307062430       es   \n",
       "\n",
       "    media_name           media_url         publish_date  \\\n",
       "0  24-horas.mx  http://24-horas.mx  2023-03-06 00:00:00   \n",
       "\n",
       "                                               title  \\\n",
       "0  AMLO; apoya a Samuel García ante conflicto con...   \n",
       "\n",
       "                                                 url  category  \\\n",
       "0  https://www.24-horas.mx/2023/03/06/amlo-apoya-...  negocios   \n",
       "\n",
       "                                                text  \\\n",
       "0  AMLO; apoya a Samuel García ante conflicto con...   \n",
       "\n",
       "                                       text_cleanned  \n",
       "0  AMLO; apoya a Samuel García ante conflicto con...  "
      ]
     },
     "execution_count": 7,
     "metadata": {},
     "output_type": "execute_result"
    }
   ],
   "source": [
    "df = load.read_csv(news)\n",
    "\n",
    "# Show dataframe\n",
    "df.head(1)"
   ]
  },
  {
   "attachments": {},
   "cell_type": "markdown",
   "metadata": {},
   "source": [
    "### Get tokens"
   ]
  },
  {
   "cell_type": "code",
   "execution_count": null,
   "metadata": {},
   "outputs": [],
   "source": [
    "max_tokens = 512\n",
    "\n",
    "# Remove reviews that are too long to embed\n",
    "df[\"n_tokens\"] = df.text_cleanned.apply(lambda x: len(encoding.encode(x)))\n",
    "df_filtered = df[df.n_tokens <= max_tokens]\n",
    "len(df_filtered)"
   ]
  },
  {
   "cell_type": "code",
   "execution_count": 14,
   "metadata": {},
   "outputs": [
    {
     "data": {
      "application/vnd.jupyter.widget-view+json": {
       "model_id": "bd05e58460614f40963865c74720b513",
       "version_major": 2,
       "version_minor": 0
      },
      "text/plain": [
       "Downloading (…)solve/main/vocab.txt:   0%|          | 0.00/232k [00:00<?, ?B/s]"
      ]
     },
     "metadata": {},
     "output_type": "display_data"
    },
    {
     "data": {
      "application/vnd.jupyter.widget-view+json": {
       "model_id": "5acd3c4df0ac4868ba017d11d6b63f8a",
       "version_major": 2,
       "version_minor": 0
      },
      "text/plain": [
       "Downloading (…)okenizer_config.json:   0%|          | 0.00/28.0 [00:00<?, ?B/s]"
      ]
     },
     "metadata": {},
     "output_type": "display_data"
    },
    {
     "data": {
      "application/vnd.jupyter.widget-view+json": {
       "model_id": "b92baaf275d248d1bdd62d875ca43d73",
       "version_major": 2,
       "version_minor": 0
      },
      "text/plain": [
       "Downloading (…)lve/main/config.json:   0%|          | 0.00/570 [00:00<?, ?B/s]"
      ]
     },
     "metadata": {},
     "output_type": "display_data"
    },
    {
     "data": {
      "application/vnd.jupyter.widget-view+json": {
       "model_id": "a31ae887333a4474b359ed5aefbd74bc",
       "version_major": 2,
       "version_minor": 0
      },
      "text/plain": [
       "Downloading pytorch_model.bin:   0%|          | 0.00/440M [00:00<?, ?B/s]"
      ]
     },
     "metadata": {},
     "output_type": "display_data"
    },
    {
     "name": "stderr",
     "output_type": "stream",
     "text": [
      "Some weights of the model checkpoint at bert-base-uncased were not used when initializing BertModel: ['cls.predictions.transform.LayerNorm.bias', 'cls.predictions.transform.dense.weight', 'cls.predictions.transform.dense.bias', 'cls.seq_relationship.bias', 'cls.predictions.decoder.weight', 'cls.predictions.transform.LayerNorm.weight', 'cls.predictions.bias', 'cls.seq_relationship.weight']\n",
      "- This IS expected if you are initializing BertModel from the checkpoint of a model trained on another task or with another architecture (e.g. initializing a BertForSequenceClassification model from a BertForPreTraining model).\n",
      "- This IS NOT expected if you are initializing BertModel from the checkpoint of a model that you expect to be exactly identical (initializing a BertForSequenceClassification model from a BertForSequenceClassification model).\n",
      "Token indices sequence length is longer than the specified maximum sequence length for this model (12670 > 512). Running this sequence through the model will result in indexing errors\n"
     ]
    },
    {
     "ename": "AttributeError",
     "evalue": "",
     "output_type": "error",
     "traceback": [
      "\u001b[0;31m---------------------------------------------------------------------------\u001b[0m",
      "\u001b[0;31mKeyError\u001b[0m                                  Traceback (most recent call last)",
      "File \u001b[0;32m~/.local/share/virtualenvs/customized_headlines-FvG73Ws_/lib/python3.8/site-packages/transformers/tokenization_utils_base.py:248\u001b[0m, in \u001b[0;36mBatchEncoding.__getattr__\u001b[0;34m(self, item)\u001b[0m\n\u001b[1;32m    247\u001b[0m \u001b[39mtry\u001b[39;00m:\n\u001b[0;32m--> 248\u001b[0m     \u001b[39mreturn\u001b[39;00m \u001b[39mself\u001b[39;49m\u001b[39m.\u001b[39;49mdata[item]\n\u001b[1;32m    249\u001b[0m \u001b[39mexcept\u001b[39;00m \u001b[39mKeyError\u001b[39;00m:\n",
      "\u001b[0;31mKeyError\u001b[0m: 'size'",
      "\nDuring handling of the above exception, another exception occurred:\n",
      "\u001b[0;31mAttributeError\u001b[0m                            Traceback (most recent call last)",
      "Cell \u001b[0;32mIn[14], line 6\u001b[0m\n\u001b[1;32m      3\u001b[0m model \u001b[39m=\u001b[39m BertModel\u001b[39m.\u001b[39mfrom_pretrained(\u001b[39m\"\u001b[39m\u001b[39mbert-base-uncased\u001b[39m\u001b[39m\"\u001b[39m)\n\u001b[1;32m      5\u001b[0m \u001b[39m# Tokenize column\u001b[39;00m\n\u001b[0;32m----> 6\u001b[0m df[\u001b[39m'\u001b[39m\u001b[39mtokens-gpt2\u001b[39m\u001b[39m'\u001b[39m] \u001b[39m=\u001b[39m df\u001b[39m.\u001b[39;49mapply(\u001b[39mlambda\u001b[39;49;00m row: model(tokenizer(row[\u001b[39m'\u001b[39;49m\u001b[39mtext_cleanned\u001b[39;49m\u001b[39m'\u001b[39;49m], return_tensors\u001b[39m=\u001b[39;49m\u001b[39m'\u001b[39;49m\u001b[39mpt\u001b[39;49m\u001b[39m'\u001b[39;49m)), axis\u001b[39m=\u001b[39;49m\u001b[39m1\u001b[39;49m)\n\u001b[1;32m      7\u001b[0m df\n",
      "File \u001b[0;32m~/.local/share/virtualenvs/customized_headlines-FvG73Ws_/lib/python3.8/site-packages/pandas/core/frame.py:9568\u001b[0m, in \u001b[0;36mDataFrame.apply\u001b[0;34m(self, func, axis, raw, result_type, args, **kwargs)\u001b[0m\n\u001b[1;32m   9557\u001b[0m \u001b[39mfrom\u001b[39;00m \u001b[39mpandas\u001b[39;00m\u001b[39m.\u001b[39;00m\u001b[39mcore\u001b[39;00m\u001b[39m.\u001b[39;00m\u001b[39mapply\u001b[39;00m \u001b[39mimport\u001b[39;00m frame_apply\n\u001b[1;32m   9559\u001b[0m op \u001b[39m=\u001b[39m frame_apply(\n\u001b[1;32m   9560\u001b[0m     \u001b[39mself\u001b[39m,\n\u001b[1;32m   9561\u001b[0m     func\u001b[39m=\u001b[39mfunc,\n\u001b[0;32m   (...)\u001b[0m\n\u001b[1;32m   9566\u001b[0m     kwargs\u001b[39m=\u001b[39mkwargs,\n\u001b[1;32m   9567\u001b[0m )\n\u001b[0;32m-> 9568\u001b[0m \u001b[39mreturn\u001b[39;00m op\u001b[39m.\u001b[39;49mapply()\u001b[39m.\u001b[39m__finalize__(\u001b[39mself\u001b[39m, method\u001b[39m=\u001b[39m\u001b[39m\"\u001b[39m\u001b[39mapply\u001b[39m\u001b[39m\"\u001b[39m)\n",
      "File \u001b[0;32m~/.local/share/virtualenvs/customized_headlines-FvG73Ws_/lib/python3.8/site-packages/pandas/core/apply.py:764\u001b[0m, in \u001b[0;36mFrameApply.apply\u001b[0;34m(self)\u001b[0m\n\u001b[1;32m    761\u001b[0m \u001b[39melif\u001b[39;00m \u001b[39mself\u001b[39m\u001b[39m.\u001b[39mraw:\n\u001b[1;32m    762\u001b[0m     \u001b[39mreturn\u001b[39;00m \u001b[39mself\u001b[39m\u001b[39m.\u001b[39mapply_raw()\n\u001b[0;32m--> 764\u001b[0m \u001b[39mreturn\u001b[39;00m \u001b[39mself\u001b[39;49m\u001b[39m.\u001b[39;49mapply_standard()\n",
      "File \u001b[0;32m~/.local/share/virtualenvs/customized_headlines-FvG73Ws_/lib/python3.8/site-packages/pandas/core/apply.py:891\u001b[0m, in \u001b[0;36mFrameApply.apply_standard\u001b[0;34m(self)\u001b[0m\n\u001b[1;32m    890\u001b[0m \u001b[39mdef\u001b[39;00m \u001b[39mapply_standard\u001b[39m(\u001b[39mself\u001b[39m):\n\u001b[0;32m--> 891\u001b[0m     results, res_index \u001b[39m=\u001b[39m \u001b[39mself\u001b[39;49m\u001b[39m.\u001b[39;49mapply_series_generator()\n\u001b[1;32m    893\u001b[0m     \u001b[39m# wrap results\u001b[39;00m\n\u001b[1;32m    894\u001b[0m     \u001b[39mreturn\u001b[39;00m \u001b[39mself\u001b[39m\u001b[39m.\u001b[39mwrap_results(results, res_index)\n",
      "File \u001b[0;32m~/.local/share/virtualenvs/customized_headlines-FvG73Ws_/lib/python3.8/site-packages/pandas/core/apply.py:907\u001b[0m, in \u001b[0;36mFrameApply.apply_series_generator\u001b[0;34m(self)\u001b[0m\n\u001b[1;32m    904\u001b[0m \u001b[39mwith\u001b[39;00m option_context(\u001b[39m\"\u001b[39m\u001b[39mmode.chained_assignment\u001b[39m\u001b[39m\"\u001b[39m, \u001b[39mNone\u001b[39;00m):\n\u001b[1;32m    905\u001b[0m     \u001b[39mfor\u001b[39;00m i, v \u001b[39min\u001b[39;00m \u001b[39menumerate\u001b[39m(series_gen):\n\u001b[1;32m    906\u001b[0m         \u001b[39m# ignore SettingWithCopy here in case the user mutates\u001b[39;00m\n\u001b[0;32m--> 907\u001b[0m         results[i] \u001b[39m=\u001b[39m \u001b[39mself\u001b[39;49m\u001b[39m.\u001b[39;49mf(v)\n\u001b[1;32m    908\u001b[0m         \u001b[39mif\u001b[39;00m \u001b[39misinstance\u001b[39m(results[i], ABCSeries):\n\u001b[1;32m    909\u001b[0m             \u001b[39m# If we have a view on v, we need to make a copy because\u001b[39;00m\n\u001b[1;32m    910\u001b[0m             \u001b[39m#  series_generator will swap out the underlying data\u001b[39;00m\n\u001b[1;32m    911\u001b[0m             results[i] \u001b[39m=\u001b[39m results[i]\u001b[39m.\u001b[39mcopy(deep\u001b[39m=\u001b[39m\u001b[39mFalse\u001b[39;00m)\n",
      "Cell \u001b[0;32mIn[14], line 6\u001b[0m, in \u001b[0;36m<lambda>\u001b[0;34m(row)\u001b[0m\n\u001b[1;32m      3\u001b[0m model \u001b[39m=\u001b[39m BertModel\u001b[39m.\u001b[39mfrom_pretrained(\u001b[39m\"\u001b[39m\u001b[39mbert-base-uncased\u001b[39m\u001b[39m\"\u001b[39m)\n\u001b[1;32m      5\u001b[0m \u001b[39m# Tokenize column\u001b[39;00m\n\u001b[0;32m----> 6\u001b[0m df[\u001b[39m'\u001b[39m\u001b[39mtokens-gpt2\u001b[39m\u001b[39m'\u001b[39m] \u001b[39m=\u001b[39m df\u001b[39m.\u001b[39mapply(\u001b[39mlambda\u001b[39;00m row: model(tokenizer(row[\u001b[39m'\u001b[39;49m\u001b[39mtext_cleanned\u001b[39;49m\u001b[39m'\u001b[39;49m], return_tensors\u001b[39m=\u001b[39;49m\u001b[39m'\u001b[39;49m\u001b[39mpt\u001b[39;49m\u001b[39m'\u001b[39;49m)), axis\u001b[39m=\u001b[39m\u001b[39m1\u001b[39m)\n\u001b[1;32m      7\u001b[0m df\n",
      "File \u001b[0;32m~/.local/share/virtualenvs/customized_headlines-FvG73Ws_/lib/python3.8/site-packages/torch/nn/modules/module.py:1501\u001b[0m, in \u001b[0;36mModule._call_impl\u001b[0;34m(self, *args, **kwargs)\u001b[0m\n\u001b[1;32m   1496\u001b[0m \u001b[39m# If we don't have any hooks, we want to skip the rest of the logic in\u001b[39;00m\n\u001b[1;32m   1497\u001b[0m \u001b[39m# this function, and just call forward.\u001b[39;00m\n\u001b[1;32m   1498\u001b[0m \u001b[39mif\u001b[39;00m \u001b[39mnot\u001b[39;00m (\u001b[39mself\u001b[39m\u001b[39m.\u001b[39m_backward_hooks \u001b[39mor\u001b[39;00m \u001b[39mself\u001b[39m\u001b[39m.\u001b[39m_backward_pre_hooks \u001b[39mor\u001b[39;00m \u001b[39mself\u001b[39m\u001b[39m.\u001b[39m_forward_hooks \u001b[39mor\u001b[39;00m \u001b[39mself\u001b[39m\u001b[39m.\u001b[39m_forward_pre_hooks\n\u001b[1;32m   1499\u001b[0m         \u001b[39mor\u001b[39;00m _global_backward_pre_hooks \u001b[39mor\u001b[39;00m _global_backward_hooks\n\u001b[1;32m   1500\u001b[0m         \u001b[39mor\u001b[39;00m _global_forward_hooks \u001b[39mor\u001b[39;00m _global_forward_pre_hooks):\n\u001b[0;32m-> 1501\u001b[0m     \u001b[39mreturn\u001b[39;00m forward_call(\u001b[39m*\u001b[39;49margs, \u001b[39m*\u001b[39;49m\u001b[39m*\u001b[39;49mkwargs)\n\u001b[1;32m   1502\u001b[0m \u001b[39m# Do not call functions when jit is used\u001b[39;00m\n\u001b[1;32m   1503\u001b[0m full_backward_hooks, non_full_backward_hooks \u001b[39m=\u001b[39m [], []\n",
      "File \u001b[0;32m~/.local/share/virtualenvs/customized_headlines-FvG73Ws_/lib/python3.8/site-packages/transformers/models/bert/modeling_bert.py:968\u001b[0m, in \u001b[0;36mBertModel.forward\u001b[0;34m(self, input_ids, attention_mask, token_type_ids, position_ids, head_mask, inputs_embeds, encoder_hidden_states, encoder_attention_mask, past_key_values, use_cache, output_attentions, output_hidden_states, return_dict)\u001b[0m\n\u001b[1;32m    966\u001b[0m     \u001b[39mraise\u001b[39;00m \u001b[39mValueError\u001b[39;00m(\u001b[39m\"\u001b[39m\u001b[39mYou cannot specify both input_ids and inputs_embeds at the same time\u001b[39m\u001b[39m\"\u001b[39m)\n\u001b[1;32m    967\u001b[0m \u001b[39melif\u001b[39;00m input_ids \u001b[39mis\u001b[39;00m \u001b[39mnot\u001b[39;00m \u001b[39mNone\u001b[39;00m:\n\u001b[0;32m--> 968\u001b[0m     input_shape \u001b[39m=\u001b[39m input_ids\u001b[39m.\u001b[39;49msize()\n\u001b[1;32m    969\u001b[0m \u001b[39melif\u001b[39;00m inputs_embeds \u001b[39mis\u001b[39;00m \u001b[39mnot\u001b[39;00m \u001b[39mNone\u001b[39;00m:\n\u001b[1;32m    970\u001b[0m     input_shape \u001b[39m=\u001b[39m inputs_embeds\u001b[39m.\u001b[39msize()[:\u001b[39m-\u001b[39m\u001b[39m1\u001b[39m]\n",
      "File \u001b[0;32m~/.local/share/virtualenvs/customized_headlines-FvG73Ws_/lib/python3.8/site-packages/transformers/tokenization_utils_base.py:250\u001b[0m, in \u001b[0;36mBatchEncoding.__getattr__\u001b[0;34m(self, item)\u001b[0m\n\u001b[1;32m    248\u001b[0m     \u001b[39mreturn\u001b[39;00m \u001b[39mself\u001b[39m\u001b[39m.\u001b[39mdata[item]\n\u001b[1;32m    249\u001b[0m \u001b[39mexcept\u001b[39;00m \u001b[39mKeyError\u001b[39;00m:\n\u001b[0;32m--> 250\u001b[0m     \u001b[39mraise\u001b[39;00m \u001b[39mAttributeError\u001b[39;00m\n",
      "\u001b[0;31mAttributeError\u001b[0m: "
     ]
    }
   ],
   "source": [
    "from transformers import BertTokenizer, BertModel\n",
    "tokenizer = BertTokenizer.from_pretrained('bert-base-uncased')\n",
    "model = BertModel.from_pretrained(\"bert-base-uncased\")\n",
    "\n",
    "# Tokenize text in PyTorch with model\n",
    "df['tokens-bert'] = df.apply(lambda row: model(tokenizer(row['text_cleanned'], return_tensors='pt')), axis=1)\n",
    "df"
   ]
  },
  {
   "cell_type": "code",
   "execution_count": 4,
   "metadata": {},
   "outputs": [
    {
     "data": {
      "text/html": [
       "<div>\n",
       "<style scoped>\n",
       "    .dataframe tbody tr th:only-of-type {\n",
       "        vertical-align: middle;\n",
       "    }\n",
       "\n",
       "    .dataframe tbody tr th {\n",
       "        vertical-align: top;\n",
       "    }\n",
       "\n",
       "    .dataframe thead th {\n",
       "        text-align: right;\n",
       "    }\n",
       "</style>\n",
       "<table border=\"1\" class=\"dataframe\">\n",
       "  <thead>\n",
       "    <tr style=\"text-align: right;\">\n",
       "      <th></th>\n",
       "      <th>archived_url</th>\n",
       "      <th>article_url</th>\n",
       "      <th>id</th>\n",
       "      <th>language</th>\n",
       "      <th>media_name</th>\n",
       "      <th>media_url</th>\n",
       "      <th>publish_date</th>\n",
       "      <th>title</th>\n",
       "      <th>url</th>\n",
       "      <th>category</th>\n",
       "      <th>text</th>\n",
       "      <th>text_cleanned</th>\n",
       "      <th>tokens</th>\n",
       "      <th>token_count</th>\n",
       "    </tr>\n",
       "  </thead>\n",
       "  <tbody>\n",
       "    <tr>\n",
       "      <th>0</th>\n",
       "      <td>https://web.archive.org/web/20230307062430/htt...</td>\n",
       "      <td>https://wayback-api.archive.org/colsearch/v1/m...</td>\n",
       "      <td>20230307062430</td>\n",
       "      <td>es</td>\n",
       "      <td>24-horas.mx</td>\n",
       "      <td>http://24-horas.mx</td>\n",
       "      <td>2023-03-06 00:00:00</td>\n",
       "      <td>AMLO; apoya a Samuel García ante conflicto con...</td>\n",
       "      <td>https://www.24-horas.mx/2023/03/06/amlo-apoya-...</td>\n",
       "      <td>negocios</td>\n",
       "      <td>AMLO; apoya a Samuel García ante conflicto con...</td>\n",
       "      <td>AMLO; apoya a Samuel García ante conflicto con...</td>\n",
       "      <td>[AMLO, ;, apoya, a, Samuel, García, ante, conf...</td>\n",
       "      <td>7295</td>\n",
       "    </tr>\n",
       "  </tbody>\n",
       "</table>\n",
       "</div>"
      ],
      "text/plain": [
       "                                        archived_url  \\\n",
       "0  https://web.archive.org/web/20230307062430/htt...   \n",
       "\n",
       "                                         article_url              id language  \\\n",
       "0  https://wayback-api.archive.org/colsearch/v1/m...  20230307062430       es   \n",
       "\n",
       "    media_name           media_url         publish_date  \\\n",
       "0  24-horas.mx  http://24-horas.mx  2023-03-06 00:00:00   \n",
       "\n",
       "                                               title  \\\n",
       "0  AMLO; apoya a Samuel García ante conflicto con...   \n",
       "\n",
       "                                                 url  category  \\\n",
       "0  https://www.24-horas.mx/2023/03/06/amlo-apoya-...  negocios   \n",
       "\n",
       "                                                text  \\\n",
       "0  AMLO; apoya a Samuel García ante conflicto con...   \n",
       "\n",
       "                                       text_cleanned  \\\n",
       "0  AMLO; apoya a Samuel García ante conflicto con...   \n",
       "\n",
       "                                              tokens  token_count  \n",
       "0  [AMLO, ;, apoya, a, Samuel, García, ante, conf...         7295  "
      ]
     },
     "execution_count": 4,
     "metadata": {},
     "output_type": "execute_result"
    }
   ],
   "source": [
    "# Tokenize column\n",
    "df['tokens'] = df.apply(lambda row: word_tokenize(row['text_cleanned']), axis=1)\n",
    "\n",
    "# Clean tokens and count them\n",
    "df['token_count'] = df.tokens.replace(',','').str.len()\n",
    "\n",
    "# Show dataframe\n",
    "df.head(1)"
   ]
  },
  {
   "cell_type": "code",
   "execution_count": 5,
   "metadata": {},
   "outputs": [
    {
     "data": {
      "text/plain": [
       "1013.3"
      ]
     },
     "execution_count": 5,
     "metadata": {},
     "output_type": "execute_result"
    }
   ],
   "source": [
    "# Calculate mean of tokens from column\n",
    "tokens_mean = df['token_count'].mean()\n",
    "tokens_mean"
   ]
  },
  {
   "cell_type": "code",
   "execution_count": 19,
   "metadata": {},
   "outputs": [],
   "source": [
    "# Create a list o column values\n",
    "texts = df['text_cleanned'].to_list()"
   ]
  },
  {
   "attachments": {},
   "cell_type": "markdown",
   "metadata": {},
   "source": [
    "### Create embeddings"
   ]
  },
  {
   "cell_type": "code",
   "execution_count": 20,
   "metadata": {},
   "outputs": [],
   "source": [
    "# Create embeddings\n",
    "embeddings = model.encode(texts)"
   ]
  },
  {
   "cell_type": "code",
   "execution_count": 26,
   "metadata": {},
   "outputs": [],
   "source": [
    "# Convert embeddings to dataframe\n",
    "df_emb = pd.DataFrame(embeddings)\n",
    "\n",
    "# Save dataframe as csv file\n",
    "df_emb.to_csv(f'{data_processed}/embeddings-t5.csv', index=False)"
   ]
  },
  {
   "attachments": {},
   "cell_type": "markdown",
   "metadata": {},
   "source": [
    "### Semantic search"
   ]
  },
  {
   "cell_type": "code",
   "execution_count": 27,
   "metadata": {},
   "outputs": [],
   "source": [
    "# Load dataset from dataframe\n",
    "dataset = Dataset.from_pandas(df_emb)\n",
    "\n",
    "# Create a tensor\n",
    "dataset_embeddings = torch.from_numpy(dataset.to_pandas().to_numpy()).to(torch.float)"
   ]
  },
  {
   "cell_type": "code",
   "execution_count": 28,
   "metadata": {},
   "outputs": [],
   "source": [
    "interests = [\"Deportes, tecnología\"]\n",
    "output = model.encode(interests)\n",
    "\n",
    "query_embeddings = torch.FloatTensor(output)"
   ]
  },
  {
   "cell_type": "code",
   "execution_count": 29,
   "metadata": {},
   "outputs": [
    {
     "data": {
      "text/plain": [
       "[[{'corpus_id': 187, 'score': 0.7427448630332947},\n",
       "  {'corpus_id': 141, 'score': 0.7378556132316589},\n",
       "  {'corpus_id': 89, 'score': 0.7344669699668884}]]"
      ]
     },
     "execution_count": 29,
     "metadata": {},
     "output_type": "execute_result"
    }
   ],
   "source": [
    "hits = semantic_search(query_embeddings, dataset_embeddings, top_k=3)\n",
    "hits"
   ]
  },
  {
   "cell_type": "code",
   "execution_count": 30,
   "metadata": {},
   "outputs": [
    {
     "data": {
      "text/plain": [
       "'Danza y teatro en la CDMX: ¿Qué ver del 3 al 5 de marzo?  Plan B de la Electoral Población Económicamente Activa Situación en Nicaragua Guerra Rusia - Ucrania Temas del día Home Opinión Secciones México Ciudad Estados Mundo Negocios Deportes Entretenimiento Cultura Salud Tecnología Autos Estilos Virales Videos Infografías El Cultural Suplementos Versión impresa Home Opinión Secciones México Ciudad Estados Negocios Mundo Deportes Entretenimiento Cultura Salud Tecnología Autos Estilos Virales Infografías El Cultural Suplementos Versión impresa Actividades culturales Danza y teatro en la CDMX: ¿Qué ver del 3 al 5 de marzo? Te decimos cuáles son las actividades más destacadas en la CDMX este fin de semana Danza y teatro en la CDMX, ¿Qué ver del 3 al 5 de marzo? Foto: Especial Por: Daniel Lugo - 03/03/2023 15:27 Instagram: @lugo_photographer Ciudad de México.- El mes de marzo llegó con una serie de acontecimientos artísticos y contemporáneos que no querrás perderte y de seguro desearás disfrutarlos en compañía de tus amigos, familia o cualquiera amante de la danza o el teatro. Aquí te traemos las mejores opciones para este fin de semana. 1.\\tMujer, danza y escena Sí andas por el poniente de la Ciudad de México y te gustaría presenciar un programa dancístico que conmemora el valor de la mujer en la danza y la escena, tú mejor opción es ver Mujer, danza y escena  del Centro de Producción de Danza Contemporánea, bajo la dirección de la coreógrafa Cecilia Lugo. Este repertorio está conformado por “Mujer es mar-océano”, “Aire” y “El último viaje”, coreografías que  buscan reconocer a la mujer como pilar del crecimiento de la humanidad. Lo anterior forma parte de la Temporada de Danza Universos Femeninos de la Coordinación Nacional de Danza del Instituto Nacional de Bellas Artes. Mujer, danza y escena Foto: Especial “Mujer, danza y escena” Cuándo: Viernes, 3 de marzo, 20 h. Sábado, 4 de marzo, 19 h. Domingo, 5 de marzo, 18 h Dónde: Teatro de la Danza Guillermina Bravo del Centro Cultural del Bosque Entrada libre 2.\\t“Quemar los campos” Si continuas por el Centro Cultural del Bosque y te quedaste con ganas de seguir viendo piezas que se abordan desde la perspectiva femenina, te sugerimos asistir a la obra de teatro “Quemar los campos” de Ingrid Bravo, bajo la dirección de Bruno Ruiz. Esta puesta en escena gira en torno al tema de los feminicidios y durante su desarrollo va construyendo un jardín, donde el  tiempo, el espacio y el duelo colectivo, se nombran desde sus víctimas y madres. Producida por la compañía Teatro Desde la Grieta, esta obra tiene como objetivo resignificar de forma simbólica el cuerpo femenino de las víctimas de feminicidio, la lucha por la vida y la justicia a la que se enfrentan miles de mujeres que buscan y  exigen justicia para sus personas desaparecidas. “Quemar los campos” Foto: Especial “Quemar los campos” Cuándo: Viernes, 3 de marzo, 20 h. Sábado, 4 de marzo, 19 h. Domingo, 5 de marzo, 18 h Dónde: Teatro El Galeón Abraham Oceransky del Centro Cultural del Bosque $150. Boletos en taquillas. 3.\\tLa Lúser Sí eres de los que disfruta más pasearse por el Centro Histórico de la Ciudad y de vez en cuando buscas experiencias teatrales más cercanas,  no te olvides darte una vuelta por el Foro A Poco No y disfrutar el inicio de temporada de la obra La Lúser de Cutberto López Reyes, bajo la dirección de Ginés Cruz. Esta pieza escénica, protagonizada por la actriz Paola Izquierdo, nos narra la historia de Milagros, una mujer que nació sin suerte y que, aún en la adversidad, lucha para no ahogarse en su propia miseria. Sin duda, sí te gustan las obras con estilo cabaret y humor desenfrenado, está obra te va a encantar. La Luser Foto: Especial “La Lúser” Cuándo: Viernes, 3 de marzo, 20 h. Sábado, 4 de marzo, 19 h. Domingo, 5 de marzo, 18 h. Dónde: Foro A Poco No. Calle República de Cuba # 49 Boletos en taquillas 4.\\tLa niña malcriada De regreso al Centro Cultural del Bosque, la Compañía Nacional de Danza, dirigida por Elisa Carrillo y Cuauhtémoc Nájera, inicia su temporada de \"La niña malcriada\" en el Teatro de la Danza Guillermina Bravo. En esta singular adaptación, basada en la obra original de Enrique Martínez, con música de los compositores Ludwig Hertel y Ferdinand Herold, se nos cuenta la historia de Lissete, una joven que tendrá que sortear los desafíos impuestos por su madre Simonne, para evitar que la comprometa con Alain, el hijo bobo de un rico dueño de viñedos de la zona. ¡Es para toda la familia! La niña malcriada Foto: Especial “La niña malcriada” Cuándo: Sábados y domingos de marzo, 13 h Dónde: Teatro de la Danza Guillermina Bravo Entrada libre. Sujeto a disponibilidad 5.\\tMujeres flamencas Inicia el mes de la mujer en Juncal Tablao Flamenco y del 1 al 4 de marzo, este distinguido espacio presenta noches de magia y energía con talentosas bailaoras que te sorprenderán por dejar su corazón en el escenario: “Mujeres flamencas”. Disfruta al baile a Marién Luevano, Ana Pruneda y Pilar Fernández; además del ensamble musical conformado por Alfredo Millan (guitarra), Héctor Aguilar (cajón) y al cante: Cachito Díaz y Álvaro González. Mujeres flamencas Foto: Especial “Mujeres flamencas” Cuándo: Viernes 3 y sábado 4 de marzo, 21 h Dónde: Juncal Tablao Flamenco Av. Álvaro Obregón 293 Boletos en taquillas Síguenos también en Google News Leo Etiquetas cdmx Cultura espectáculos Teatro TE PUEDE INTERESAR Bellas Artes se rinde ante la imponente Elīna Garanča LO MÁS VISTO Beso Celestial ¡Es Hoy!; te contamos de qué trata este espectáculo astronómico único Ennid Wong sufre accidente con la blusa; se le baja toda y así reaccionó (VIDEO) Este es el precio del dólar hoy, viernes 3 de marzo; el peso sigue avanzando Adame aparece derrotado y en el piso en nuevo VIDEO de su reciente pelea en la calle René Franco cuestiona a Flor Amargo sobre por qué no se llama \"Fler\" y ella responde: \"deja de sembrar ignorancia\"'"
      ]
     },
     "execution_count": 30,
     "metadata": {},
     "output_type": "execute_result"
    }
   ],
   "source": [
    "texts[hits[0][0]['corpus_id']]"
   ]
  }
 ],
 "metadata": {
  "kernelspec": {
   "display_name": "customized_headlines-FvG73Ws_",
   "language": "python",
   "name": "python3"
  },
  "language_info": {
   "codemirror_mode": {
    "name": "ipython",
    "version": 3
   },
   "file_extension": ".py",
   "mimetype": "text/x-python",
   "name": "python",
   "nbconvert_exporter": "python",
   "pygments_lexer": "ipython3",
   "version": "3.8.10"
  },
  "orig_nbformat": 4,
  "vscode": {
   "interpreter": {
    "hash": "8b725b10da2d3edb26298de5c64855d2d8517f0dee0cc115a411a016ea5506c4"
   }
  }
 },
 "nbformat": 4,
 "nbformat_minor": 2
}
